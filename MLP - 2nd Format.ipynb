{
 "cells": [
  {
   "cell_type": "code",
   "execution_count": 1,
   "id": "577d3475",
   "metadata": {},
   "outputs": [
    {
     "name": "stdout",
     "output_type": "stream",
     "text": [
      "WARNING:tensorflow:From C:\\Users\\dimit\\anaconda3\\Lib\\site-packages\\keras\\src\\losses.py:2976: The name tf.losses.sparse_softmax_cross_entropy is deprecated. Please use tf.compat.v1.losses.sparse_softmax_cross_entropy instead.\n",
      "\n"
     ]
    }
   ],
   "source": [
    "# Libraries for data manipulation\n",
    "import pandas as pd\n",
    "import numpy as np\n",
    "\n",
    "# Libraries for visualization\n",
    "import plotly.express as px\n",
    "import plotly.graph_objects as go\n",
    "import seaborn as sns\n",
    "import matplotlib.pyplot as plt\n",
    "\n",
    "# Libraries for feature and target encoding\n",
    "from sklearn.preprocessing import OneHotEncoder\n",
    "from sklearn.preprocessing import LabelEncoder\n",
    "from sklearn.preprocessing import OrdinalEncoder\n",
    "from sklearn.preprocessing import LabelBinarizer\n",
    "\n",
    "# Libraries for Feature Selection\n",
    "from sklearn.feature_selection import SelectKBest\n",
    "from sklearn.feature_selection import GenericUnivariateSelect, chi2\n",
    "from sklearn.feature_selection import VarianceThreshold\n",
    "\n",
    "# Libraries for Model Selection\n",
    "from sklearn.model_selection import cross_val_score\n",
    "from sklearn.model_selection import StratifiedKFold\n",
    "\n",
    "# Libraries of Shuffling\n",
    "from sklearn.utils import shuffle\n",
    "\n",
    "# Libraries for metrics in Machine Learning\n",
    "from sklearn import metrics\n",
    "from sklearn.metrics import auc\n",
    "from sklearn.metrics import roc_auc_score\n",
    "from sklearn.metrics import roc_curve\n",
    "from sklearn.metrics import accuracy_score, confusion_matrix, precision_score, recall_score, ConfusionMatrixDisplay, f1_score\n",
    "from sklearn.metrics import classification_report\n",
    "from sklearn.metrics import balanced_accuracy_score\n",
    "\n",
    "# Libraries for Deep Learning\n",
    "import tensorflow as tf\n",
    "from tensorflow import keras\n",
    "from tensorflow.keras.models import Sequential\n",
    "\n",
    "# Data Conversion Libraries\n",
    "from tensorflow.keras.utils import to_categorical\n",
    "\n",
    "# Libraries for Layer activation functions\n",
    "from tensorflow.keras.layers import Activation, Dense\n",
    "from tensorflow.keras.layers import Flatten, Dense\n",
    "\n",
    "# Libraries for optimazation\n",
    "from tensorflow.keras.optimizers import Adam\n",
    "\n",
    "#Libraries for metrics in Deep Learning\n",
    "from tensorflow.keras.metrics import categorical_crossentropy\n",
    "from tensorflow.keras.utils import to_categorical\n",
    "from tensorflow.keras.metrics import Accuracy\n",
    "\n",
    "# Libraries for Random\n",
    "import random\n",
    "\n",
    "# Libraries for reproducibility\n",
    "import session_info\n",
    "\n",
    "\n",
    "np.random.seed(42)"
   ]
  },
  {
   "cell_type": "code",
   "execution_count": 2,
   "id": "4df21424",
   "metadata": {},
   "outputs": [
    {
     "data": {
      "text/html": [
       "<div>\n",
       "<style scoped>\n",
       "    .dataframe tbody tr th:only-of-type {\n",
       "        vertical-align: middle;\n",
       "    }\n",
       "\n",
       "    .dataframe tbody tr th {\n",
       "        vertical-align: top;\n",
       "    }\n",
       "\n",
       "    .dataframe thead th {\n",
       "        text-align: right;\n",
       "    }\n",
       "</style>\n",
       "<table border=\"1\" class=\"dataframe\">\n",
       "  <thead>\n",
       "    <tr style=\"text-align: right;\">\n",
       "      <th></th>\n",
       "      <th>Unnamed: 0</th>\n",
       "      <th>Hugo_Symbol</th>\n",
       "      <th>NCBI_Build</th>\n",
       "      <th>Chromosome</th>\n",
       "      <th>Start_Position</th>\n",
       "      <th>End_Position</th>\n",
       "      <th>Strand</th>\n",
       "      <th>Consequence</th>\n",
       "      <th>Variant_Classification</th>\n",
       "      <th>Variant_Type</th>\n",
       "      <th>Reference_Allele</th>\n",
       "      <th>Tumor_Seq_Allele1</th>\n",
       "      <th>Tumor_Seq_Allele2</th>\n",
       "      <th>Tumor_Sample_Barcode</th>\n",
       "      <th>t_ref_count</th>\n",
       "      <th>t_alt_count</th>\n",
       "      <th>Transcript_ID</th>\n",
       "      <th>Disease_Type</th>\n",
       "    </tr>\n",
       "  </thead>\n",
       "  <tbody>\n",
       "    <tr>\n",
       "      <th>0</th>\n",
       "      <td>0</td>\n",
       "      <td>PAX5</td>\n",
       "      <td>GRCh37</td>\n",
       "      <td>9</td>\n",
       "      <td>37015005</td>\n",
       "      <td>37015005</td>\n",
       "      <td>+</td>\n",
       "      <td>missense_variant</td>\n",
       "      <td>Missense_Mutation</td>\n",
       "      <td>SNP</td>\n",
       "      <td>A</td>\n",
       "      <td>A</td>\n",
       "      <td>C</td>\n",
       "      <td>SJINF023</td>\n",
       "      <td>97.0</td>\n",
       "      <td>17.0</td>\n",
       "      <td>ENST00000358127</td>\n",
       "      <td>ALL</td>\n",
       "    </tr>\n",
       "    <tr>\n",
       "      <th>1</th>\n",
       "      <td>1</td>\n",
       "      <td>NRAS</td>\n",
       "      <td>GRCh37</td>\n",
       "      <td>1</td>\n",
       "      <td>115258744</td>\n",
       "      <td>115258744</td>\n",
       "      <td>+</td>\n",
       "      <td>missense_variant</td>\n",
       "      <td>Missense_Mutation</td>\n",
       "      <td>SNP</td>\n",
       "      <td>C</td>\n",
       "      <td>C</td>\n",
       "      <td>T</td>\n",
       "      <td>SJINF024</td>\n",
       "      <td>470.0</td>\n",
       "      <td>48.0</td>\n",
       "      <td>ENST00000369535</td>\n",
       "      <td>ALL</td>\n",
       "    </tr>\n",
       "    <tr>\n",
       "      <th>2</th>\n",
       "      <td>2</td>\n",
       "      <td>PIK3CA</td>\n",
       "      <td>GRCh37</td>\n",
       "      <td>3</td>\n",
       "      <td>178952085</td>\n",
       "      <td>178952085</td>\n",
       "      <td>+</td>\n",
       "      <td>missense_variant</td>\n",
       "      <td>Missense_Mutation</td>\n",
       "      <td>SNP</td>\n",
       "      <td>A</td>\n",
       "      <td>A</td>\n",
       "      <td>G</td>\n",
       "      <td>SJINF024</td>\n",
       "      <td>1010.0</td>\n",
       "      <td>217.0</td>\n",
       "      <td>ENST00000263967</td>\n",
       "      <td>ALL</td>\n",
       "    </tr>\n",
       "    <tr>\n",
       "      <th>3</th>\n",
       "      <td>3</td>\n",
       "      <td>NEB</td>\n",
       "      <td>GRCh37</td>\n",
       "      <td>2</td>\n",
       "      <td>152487806</td>\n",
       "      <td>152487806</td>\n",
       "      <td>+</td>\n",
       "      <td>missense_variant</td>\n",
       "      <td>Missense_Mutation</td>\n",
       "      <td>SNP</td>\n",
       "      <td>C</td>\n",
       "      <td>C</td>\n",
       "      <td>T</td>\n",
       "      <td>SJINF028</td>\n",
       "      <td>270.0</td>\n",
       "      <td>136.0</td>\n",
       "      <td>ENST00000397345</td>\n",
       "      <td>ALL</td>\n",
       "    </tr>\n",
       "    <tr>\n",
       "      <th>4</th>\n",
       "      <td>4</td>\n",
       "      <td>KRAS</td>\n",
       "      <td>GRCh37</td>\n",
       "      <td>12</td>\n",
       "      <td>25398284</td>\n",
       "      <td>25398284</td>\n",
       "      <td>+</td>\n",
       "      <td>missense_variant</td>\n",
       "      <td>Missense_Mutation</td>\n",
       "      <td>SNP</td>\n",
       "      <td>C</td>\n",
       "      <td>C</td>\n",
       "      <td>A</td>\n",
       "      <td>SJINF029</td>\n",
       "      <td>463.0</td>\n",
       "      <td>205.0</td>\n",
       "      <td>ENST00000256078</td>\n",
       "      <td>ALL</td>\n",
       "    </tr>\n",
       "    <tr>\n",
       "      <th>...</th>\n",
       "      <td>...</td>\n",
       "      <td>...</td>\n",
       "      <td>...</td>\n",
       "      <td>...</td>\n",
       "      <td>...</td>\n",
       "      <td>...</td>\n",
       "      <td>...</td>\n",
       "      <td>...</td>\n",
       "      <td>...</td>\n",
       "      <td>...</td>\n",
       "      <td>...</td>\n",
       "      <td>...</td>\n",
       "      <td>...</td>\n",
       "      <td>...</td>\n",
       "      <td>...</td>\n",
       "      <td>...</td>\n",
       "      <td>...</td>\n",
       "      <td>...</td>\n",
       "    </tr>\n",
       "    <tr>\n",
       "      <th>9610</th>\n",
       "      <td>9610</td>\n",
       "      <td>RSU1P1</td>\n",
       "      <td>GRCh37</td>\n",
       "      <td>10</td>\n",
       "      <td>43221241</td>\n",
       "      <td>43221241</td>\n",
       "      <td>+</td>\n",
       "      <td>upstream_gene_variant</td>\n",
       "      <td>5'Flank</td>\n",
       "      <td>SNP</td>\n",
       "      <td>C</td>\n",
       "      <td>C</td>\n",
       "      <td>T</td>\n",
       "      <td>mnm_washu_2016_1027-1</td>\n",
       "      <td>62.0</td>\n",
       "      <td>43.0</td>\n",
       "      <td>ENST00000453416</td>\n",
       "      <td>AML_MDS</td>\n",
       "    </tr>\n",
       "    <tr>\n",
       "      <th>9611</th>\n",
       "      <td>9611</td>\n",
       "      <td>CD47</td>\n",
       "      <td>GRCh37</td>\n",
       "      <td>3</td>\n",
       "      <td>107762156</td>\n",
       "      <td>107762156</td>\n",
       "      <td>+</td>\n",
       "      <td>downstream_gene_variant</td>\n",
       "      <td>3'Flank</td>\n",
       "      <td>SNP</td>\n",
       "      <td>T</td>\n",
       "      <td>T</td>\n",
       "      <td>A</td>\n",
       "      <td>mnm_washu_2016_1036-1</td>\n",
       "      <td>166.0</td>\n",
       "      <td>55.0</td>\n",
       "      <td>ENST00000361309</td>\n",
       "      <td>AML_MDS</td>\n",
       "    </tr>\n",
       "    <tr>\n",
       "      <th>9612</th>\n",
       "      <td>9612</td>\n",
       "      <td>RNU6-458P</td>\n",
       "      <td>GRCh37</td>\n",
       "      <td>14</td>\n",
       "      <td>19123723</td>\n",
       "      <td>19123723</td>\n",
       "      <td>+</td>\n",
       "      <td>downstream_gene_variant</td>\n",
       "      <td>3'Flank</td>\n",
       "      <td>SNP</td>\n",
       "      <td>A</td>\n",
       "      <td>A</td>\n",
       "      <td>G</td>\n",
       "      <td>mnm_washu_2016_1045-1</td>\n",
       "      <td>206.0</td>\n",
       "      <td>55.0</td>\n",
       "      <td>ENST00000384179</td>\n",
       "      <td>AML_MDS</td>\n",
       "    </tr>\n",
       "    <tr>\n",
       "      <th>9613</th>\n",
       "      <td>9613</td>\n",
       "      <td>RNA5SP206</td>\n",
       "      <td>GRCh37</td>\n",
       "      <td>6</td>\n",
       "      <td>32046833</td>\n",
       "      <td>32046833</td>\n",
       "      <td>+</td>\n",
       "      <td>upstream_gene_variant</td>\n",
       "      <td>5'Flank</td>\n",
       "      <td>SNP</td>\n",
       "      <td>G</td>\n",
       "      <td>G</td>\n",
       "      <td>A</td>\n",
       "      <td>mnm_washu_2016_1058-1</td>\n",
       "      <td>26.0</td>\n",
       "      <td>16.0</td>\n",
       "      <td>ENST00000516703</td>\n",
       "      <td>AML_MDS</td>\n",
       "    </tr>\n",
       "    <tr>\n",
       "      <th>9614</th>\n",
       "      <td>9614</td>\n",
       "      <td>JUN</td>\n",
       "      <td>GRCh37</td>\n",
       "      <td>1</td>\n",
       "      <td>59249871</td>\n",
       "      <td>59249871</td>\n",
       "      <td>+</td>\n",
       "      <td>upstream_gene_variant</td>\n",
       "      <td>5'Flank</td>\n",
       "      <td>SNP</td>\n",
       "      <td>T</td>\n",
       "      <td>T</td>\n",
       "      <td>C</td>\n",
       "      <td>mnm_washu_2016_1064-1</td>\n",
       "      <td>61.0</td>\n",
       "      <td>46.0</td>\n",
       "      <td>ENST00000371222</td>\n",
       "      <td>AML_MDS</td>\n",
       "    </tr>\n",
       "  </tbody>\n",
       "</table>\n",
       "<p>9615 rows × 18 columns</p>\n",
       "</div>"
      ],
      "text/plain": [
       "      Unnamed: 0 Hugo_Symbol NCBI_Build Chromosome  Start_Position  \\\n",
       "0              0        PAX5     GRCh37          9        37015005   \n",
       "1              1        NRAS     GRCh37          1       115258744   \n",
       "2              2      PIK3CA     GRCh37          3       178952085   \n",
       "3              3         NEB     GRCh37          2       152487806   \n",
       "4              4        KRAS     GRCh37         12        25398284   \n",
       "...          ...         ...        ...        ...             ...   \n",
       "9610        9610      RSU1P1     GRCh37         10        43221241   \n",
       "9611        9611        CD47     GRCh37          3       107762156   \n",
       "9612        9612   RNU6-458P     GRCh37         14        19123723   \n",
       "9613        9613   RNA5SP206     GRCh37          6        32046833   \n",
       "9614        9614         JUN     GRCh37          1        59249871   \n",
       "\n",
       "      End_Position Strand              Consequence Variant_Classification  \\\n",
       "0         37015005      +         missense_variant      Missense_Mutation   \n",
       "1        115258744      +         missense_variant      Missense_Mutation   \n",
       "2        178952085      +         missense_variant      Missense_Mutation   \n",
       "3        152487806      +         missense_variant      Missense_Mutation   \n",
       "4         25398284      +         missense_variant      Missense_Mutation   \n",
       "...            ...    ...                      ...                    ...   \n",
       "9610      43221241      +    upstream_gene_variant                5'Flank   \n",
       "9611     107762156      +  downstream_gene_variant                3'Flank   \n",
       "9612      19123723      +  downstream_gene_variant                3'Flank   \n",
       "9613      32046833      +    upstream_gene_variant                5'Flank   \n",
       "9614      59249871      +    upstream_gene_variant                5'Flank   \n",
       "\n",
       "     Variant_Type Reference_Allele Tumor_Seq_Allele1 Tumor_Seq_Allele2  \\\n",
       "0             SNP                A                 A                 C   \n",
       "1             SNP                C                 C                 T   \n",
       "2             SNP                A                 A                 G   \n",
       "3             SNP                C                 C                 T   \n",
       "4             SNP                C                 C                 A   \n",
       "...           ...              ...               ...               ...   \n",
       "9610          SNP                C                 C                 T   \n",
       "9611          SNP                T                 T                 A   \n",
       "9612          SNP                A                 A                 G   \n",
       "9613          SNP                G                 G                 A   \n",
       "9614          SNP                T                 T                 C   \n",
       "\n",
       "       Tumor_Sample_Barcode  t_ref_count  t_alt_count    Transcript_ID  \\\n",
       "0                  SJINF023         97.0         17.0  ENST00000358127   \n",
       "1                  SJINF024        470.0         48.0  ENST00000369535   \n",
       "2                  SJINF024       1010.0        217.0  ENST00000263967   \n",
       "3                  SJINF028        270.0        136.0  ENST00000397345   \n",
       "4                  SJINF029        463.0        205.0  ENST00000256078   \n",
       "...                     ...          ...          ...              ...   \n",
       "9610  mnm_washu_2016_1027-1         62.0         43.0  ENST00000453416   \n",
       "9611  mnm_washu_2016_1036-1        166.0         55.0  ENST00000361309   \n",
       "9612  mnm_washu_2016_1045-1        206.0         55.0  ENST00000384179   \n",
       "9613  mnm_washu_2016_1058-1         26.0         16.0  ENST00000516703   \n",
       "9614  mnm_washu_2016_1064-1         61.0         46.0  ENST00000371222   \n",
       "\n",
       "     Disease_Type  \n",
       "0             ALL  \n",
       "1             ALL  \n",
       "2             ALL  \n",
       "3             ALL  \n",
       "4             ALL  \n",
       "...           ...  \n",
       "9610      AML_MDS  \n",
       "9611      AML_MDS  \n",
       "9612      AML_MDS  \n",
       "9613      AML_MDS  \n",
       "9614      AML_MDS  \n",
       "\n",
       "[9615 rows x 18 columns]"
      ]
     },
     "execution_count": 2,
     "metadata": {},
     "output_type": "execute_result"
    }
   ],
   "source": [
    "full_data = pd.read_csv(\"full_data.txt\", sep=',')\n",
    "full_data"
   ]
  },
  {
   "cell_type": "code",
   "execution_count": 3,
   "id": "3871c49c",
   "metadata": {},
   "outputs": [],
   "source": [
    "full_data_dropped_col = full_data.drop([\"Unnamed: 0\", 'NCBI_Build', 'End_Position', 'Strand', 'Variant_Classification', 'Variant_Type', 'Reference_Allele',\n",
    "                           'Tumor_Sample_Barcode', 't_ref_count', 't_alt_count', 'Transcript_ID'], axis=1)"
   ]
  },
  {
   "cell_type": "code",
   "execution_count": 4,
   "id": "192c3742",
   "metadata": {},
   "outputs": [
    {
     "data": {
      "text/html": [
       "<div>\n",
       "<style scoped>\n",
       "    .dataframe tbody tr th:only-of-type {\n",
       "        vertical-align: middle;\n",
       "    }\n",
       "\n",
       "    .dataframe tbody tr th {\n",
       "        vertical-align: top;\n",
       "    }\n",
       "\n",
       "    .dataframe thead th {\n",
       "        text-align: right;\n",
       "    }\n",
       "</style>\n",
       "<table border=\"1\" class=\"dataframe\">\n",
       "  <thead>\n",
       "    <tr style=\"text-align: right;\">\n",
       "      <th></th>\n",
       "      <th>Hugo_Symbol</th>\n",
       "      <th>Chromosome</th>\n",
       "      <th>Start_Position</th>\n",
       "      <th>Consequence</th>\n",
       "      <th>Tumor_Seq_Allele1</th>\n",
       "      <th>Tumor_Seq_Allele2</th>\n",
       "      <th>Disease_Type</th>\n",
       "    </tr>\n",
       "  </thead>\n",
       "  <tbody>\n",
       "    <tr>\n",
       "      <th>0</th>\n",
       "      <td>PAX5</td>\n",
       "      <td>9</td>\n",
       "      <td>37015005</td>\n",
       "      <td>missense_variant</td>\n",
       "      <td>A</td>\n",
       "      <td>C</td>\n",
       "      <td>ALL</td>\n",
       "    </tr>\n",
       "    <tr>\n",
       "      <th>1</th>\n",
       "      <td>NRAS</td>\n",
       "      <td>1</td>\n",
       "      <td>115258744</td>\n",
       "      <td>missense_variant</td>\n",
       "      <td>C</td>\n",
       "      <td>T</td>\n",
       "      <td>ALL</td>\n",
       "    </tr>\n",
       "    <tr>\n",
       "      <th>2</th>\n",
       "      <td>PIK3CA</td>\n",
       "      <td>3</td>\n",
       "      <td>178952085</td>\n",
       "      <td>missense_variant</td>\n",
       "      <td>A</td>\n",
       "      <td>G</td>\n",
       "      <td>ALL</td>\n",
       "    </tr>\n",
       "    <tr>\n",
       "      <th>3</th>\n",
       "      <td>NEB</td>\n",
       "      <td>2</td>\n",
       "      <td>152487806</td>\n",
       "      <td>missense_variant</td>\n",
       "      <td>C</td>\n",
       "      <td>T</td>\n",
       "      <td>ALL</td>\n",
       "    </tr>\n",
       "    <tr>\n",
       "      <th>4</th>\n",
       "      <td>KRAS</td>\n",
       "      <td>12</td>\n",
       "      <td>25398284</td>\n",
       "      <td>missense_variant</td>\n",
       "      <td>C</td>\n",
       "      <td>A</td>\n",
       "      <td>ALL</td>\n",
       "    </tr>\n",
       "    <tr>\n",
       "      <th>...</th>\n",
       "      <td>...</td>\n",
       "      <td>...</td>\n",
       "      <td>...</td>\n",
       "      <td>...</td>\n",
       "      <td>...</td>\n",
       "      <td>...</td>\n",
       "      <td>...</td>\n",
       "    </tr>\n",
       "    <tr>\n",
       "      <th>9610</th>\n",
       "      <td>RSU1P1</td>\n",
       "      <td>10</td>\n",
       "      <td>43221241</td>\n",
       "      <td>upstream_gene_variant</td>\n",
       "      <td>C</td>\n",
       "      <td>T</td>\n",
       "      <td>AML_MDS</td>\n",
       "    </tr>\n",
       "    <tr>\n",
       "      <th>9611</th>\n",
       "      <td>CD47</td>\n",
       "      <td>3</td>\n",
       "      <td>107762156</td>\n",
       "      <td>downstream_gene_variant</td>\n",
       "      <td>T</td>\n",
       "      <td>A</td>\n",
       "      <td>AML_MDS</td>\n",
       "    </tr>\n",
       "    <tr>\n",
       "      <th>9612</th>\n",
       "      <td>RNU6-458P</td>\n",
       "      <td>14</td>\n",
       "      <td>19123723</td>\n",
       "      <td>downstream_gene_variant</td>\n",
       "      <td>A</td>\n",
       "      <td>G</td>\n",
       "      <td>AML_MDS</td>\n",
       "    </tr>\n",
       "    <tr>\n",
       "      <th>9613</th>\n",
       "      <td>RNA5SP206</td>\n",
       "      <td>6</td>\n",
       "      <td>32046833</td>\n",
       "      <td>upstream_gene_variant</td>\n",
       "      <td>G</td>\n",
       "      <td>A</td>\n",
       "      <td>AML_MDS</td>\n",
       "    </tr>\n",
       "    <tr>\n",
       "      <th>9614</th>\n",
       "      <td>JUN</td>\n",
       "      <td>1</td>\n",
       "      <td>59249871</td>\n",
       "      <td>upstream_gene_variant</td>\n",
       "      <td>T</td>\n",
       "      <td>C</td>\n",
       "      <td>AML_MDS</td>\n",
       "    </tr>\n",
       "  </tbody>\n",
       "</table>\n",
       "<p>9615 rows × 7 columns</p>\n",
       "</div>"
      ],
      "text/plain": [
       "     Hugo_Symbol Chromosome  Start_Position              Consequence  \\\n",
       "0           PAX5          9        37015005         missense_variant   \n",
       "1           NRAS          1       115258744         missense_variant   \n",
       "2         PIK3CA          3       178952085         missense_variant   \n",
       "3            NEB          2       152487806         missense_variant   \n",
       "4           KRAS         12        25398284         missense_variant   \n",
       "...          ...        ...             ...                      ...   \n",
       "9610      RSU1P1         10        43221241    upstream_gene_variant   \n",
       "9611        CD47          3       107762156  downstream_gene_variant   \n",
       "9612   RNU6-458P         14        19123723  downstream_gene_variant   \n",
       "9613   RNA5SP206          6        32046833    upstream_gene_variant   \n",
       "9614         JUN          1        59249871    upstream_gene_variant   \n",
       "\n",
       "     Tumor_Seq_Allele1 Tumor_Seq_Allele2 Disease_Type  \n",
       "0                    A                 C          ALL  \n",
       "1                    C                 T          ALL  \n",
       "2                    A                 G          ALL  \n",
       "3                    C                 T          ALL  \n",
       "4                    C                 A          ALL  \n",
       "...                ...               ...          ...  \n",
       "9610                 C                 T      AML_MDS  \n",
       "9611                 T                 A      AML_MDS  \n",
       "9612                 A                 G      AML_MDS  \n",
       "9613                 G                 A      AML_MDS  \n",
       "9614                 T                 C      AML_MDS  \n",
       "\n",
       "[9615 rows x 7 columns]"
      ]
     },
     "execution_count": 4,
     "metadata": {},
     "output_type": "execute_result"
    }
   ],
   "source": [
    "full_data_dropped_col"
   ]
  },
  {
   "cell_type": "code",
   "execution_count": 5,
   "id": "783313e5",
   "metadata": {
    "scrolled": true
   },
   "outputs": [
    {
     "data": {
      "text/plain": [
       "<bound method NDFrame.head of      Disease_Type  Hugo_Symbol_AAA1  Hugo_Symbol_AACS  Hugo_Symbol_AADAC  \\\n",
       "0             ALL                 0                 0                  0   \n",
       "1             ALL                 0                 0                  0   \n",
       "2             ALL                 0                 0                  0   \n",
       "3             ALL                 0                 0                  0   \n",
       "4             ALL                 0                 0                  0   \n",
       "...           ...               ...               ...                ...   \n",
       "9610      AML_MDS                 0                 0                  0   \n",
       "9611      AML_MDS                 0                 0                  0   \n",
       "9612      AML_MDS                 0                 0                  0   \n",
       "9613      AML_MDS                 0                 0                  0   \n",
       "9614      AML_MDS                 0                 0                  0   \n",
       "\n",
       "      Hugo_Symbol_AADACL3  Hugo_Symbol_AAMP  Hugo_Symbol_AAR2  \\\n",
       "0                       0                 0                 0   \n",
       "1                       0                 0                 0   \n",
       "2                       0                 0                 0   \n",
       "3                       0                 0                 0   \n",
       "4                       0                 0                 0   \n",
       "...                   ...               ...               ...   \n",
       "9610                    0                 0                 0   \n",
       "9611                    0                 0                 0   \n",
       "9612                    0                 0                 0   \n",
       "9613                    0                 0                 0   \n",
       "9614                    0                 0                 0   \n",
       "\n",
       "      Hugo_Symbol_AARS  Hugo_Symbol_AARS2  Hugo_Symbol_AASDH  ...  \\\n",
       "0                    0                  0                  0  ...   \n",
       "1                    0                  0                  0  ...   \n",
       "2                    0                  0                  0  ...   \n",
       "3                    0                  0                  0  ...   \n",
       "4                    0                  0                  0  ...   \n",
       "...                ...                ...                ...  ...   \n",
       "9610                 0                  0                  0  ...   \n",
       "9611                 0                  0                  0  ...   \n",
       "9612                 0                  0                  0  ...   \n",
       "9613                 0                  0                  0  ...   \n",
       "9614                 0                  0                  0  ...   \n",
       "\n",
       "      Tumor_Seq_Allele2_CT  Tumor_Seq_Allele2_G  Tumor_Seq_Allele2_GA  \\\n",
       "0                        0                    0                     0   \n",
       "1                        0                    0                     0   \n",
       "2                        0                    1                     0   \n",
       "3                        0                    0                     0   \n",
       "4                        0                    0                     0   \n",
       "...                    ...                  ...                   ...   \n",
       "9610                     0                    0                     0   \n",
       "9611                     0                    0                     0   \n",
       "9612                     0                    1                     0   \n",
       "9613                     0                    0                     0   \n",
       "9614                     0                    0                     0   \n",
       "\n",
       "      Tumor_Seq_Allele2_GAGTTA  Tumor_Seq_Allele2_GCGGGGGGCATTT  \\\n",
       "0                            0                                0   \n",
       "1                            0                                0   \n",
       "2                            0                                0   \n",
       "3                            0                                0   \n",
       "4                            0                                0   \n",
       "...                        ...                              ...   \n",
       "9610                         0                                0   \n",
       "9611                         0                                0   \n",
       "9612                         0                                0   \n",
       "9613                         0                                0   \n",
       "9614                         0                                0   \n",
       "\n",
       "      Tumor_Seq_Allele2_T  Tumor_Seq_Allele2_TAC  \\\n",
       "0                       0                      0   \n",
       "1                       1                      0   \n",
       "2                       0                      0   \n",
       "3                       1                      0   \n",
       "4                       0                      0   \n",
       "...                   ...                    ...   \n",
       "9610                    1                      0   \n",
       "9611                    0                      0   \n",
       "9612                    0                      0   \n",
       "9613                    0                      0   \n",
       "9614                    0                      0   \n",
       "\n",
       "      Tumor_Seq_Allele2_TATCAGCTTTT  Tumor_Seq_Allele2_TC  \\\n",
       "0                                 0                     0   \n",
       "1                                 0                     0   \n",
       "2                                 0                     0   \n",
       "3                                 0                     0   \n",
       "4                                 0                     0   \n",
       "...                             ...                   ...   \n",
       "9610                              0                     0   \n",
       "9611                              0                     0   \n",
       "9612                              0                     0   \n",
       "9613                              0                     0   \n",
       "9614                              0                     0   \n",
       "\n",
       "      Tumor_Seq_Allele2_TTTTTT  \n",
       "0                            0  \n",
       "1                            0  \n",
       "2                            0  \n",
       "3                            0  \n",
       "4                            0  \n",
       "...                        ...  \n",
       "9610                         0  \n",
       "9611                         0  \n",
       "9612                         0  \n",
       "9613                         0  \n",
       "9614                         0  \n",
       "\n",
       "[9615 rows x 15462 columns]>"
      ]
     },
     "execution_count": 5,
     "metadata": {},
     "output_type": "execute_result"
    }
   ],
   "source": [
    "dl_features = full_data_dropped_col.columns[:-1]  # Exclude the last column\n",
    "full_data_dropped_col[dl_features] = full_data_dropped_col[dl_features].astype(str)\n",
    "get_dummies_dl = pd.get_dummies(full_data_dropped_col, drop_first=True, columns=dl_features, dtype=int)\n",
    "get_dummies_dl.head"
   ]
  },
  {
   "cell_type": "code",
   "execution_count": 6,
   "id": "60e49c55",
   "metadata": {},
   "outputs": [],
   "source": [
    "### Moving column Disease Type from 13 to first and first to last ###\n",
    "\n",
    "col = get_dummies_dl.pop(\"Disease_Type\")\n",
    "test_full_data = get_dummies_dl.insert(0, col.name, col)\n",
    "\n",
    "temp_cols=get_dummies_dl.columns.tolist()\n",
    "new_cols=temp_cols[1:] + temp_cols[0:1]\n",
    "get_dummies_dl=get_dummies_dl[new_cols]\n",
    "dl_features = get_dummies_dl.iloc[:, :-1]\n",
    "\n",
    "target = get_dummies_dl[\"Disease_Type\"]\n",
    "label_encoder = LabelEncoder()\n",
    "label_encoder.fit(target)\n",
    "dl_target = label_encoder.fit_transform(target)\n",
    "diseases = label_encoder.classes_"
   ]
  },
  {
   "cell_type": "code",
   "execution_count": 7,
   "id": "d4aa7a73",
   "metadata": {},
   "outputs": [],
   "source": [
    "# Shuffle the data\n",
    "dl_features_shuffled_2nd, dl_target_shuffled_2nd = shuffle(dl_features, dl_target, random_state=42)"
   ]
  },
  {
   "cell_type": "code",
   "execution_count": 8,
   "id": "1709c15e",
   "metadata": {},
   "outputs": [],
   "source": [
    "skf = StratifiedKFold(n_splits=5, shuffle=True, random_state=42)\n",
    "for train_index, test_index in skf.split(dl_features, dl_target):\n",
    "    X_train_2nd, X_test_2nd = dl_features_shuffled_2nd.iloc[train_index], dl_features_shuffled_2nd.iloc[test_index]\n",
    "    y_train_2nd, y_test_2nd = dl_target_shuffled_2nd[train_index], dl_target_shuffled_2nd[test_index]"
   ]
  },
  {
   "cell_type": "code",
   "execution_count": 9,
   "id": "69f03a22",
   "metadata": {},
   "outputs": [
    {
     "name": "stdout",
     "output_type": "stream",
     "text": [
      "Shape after drop--> (1923, 15461) (1923, 15461)\n"
     ]
    }
   ],
   "source": [
    "# Remove constant features again in case any were missed\n",
    "X_train_2nd = X_train_2nd.loc[:, ~X_train_2nd.columns.duplicated()]\n",
    "X_test_2nd = X_test_2nd.loc[:, ~X_test_2nd.columns.duplicated()]\n",
    "print('Shape after drop-->',X_test_2nd.shape, X_test_2nd.shape)"
   ]
  },
  {
   "cell_type": "code",
   "execution_count": 10,
   "id": "f18a0d97",
   "metadata": {},
   "outputs": [],
   "source": [
    "def prepare_inputs(X_train_2nd, X_test_2nd):\n",
    "    # Set unknown_value to an integer or np.nan\n",
    "    oe = OrdinalEncoder(handle_unknown='use_encoded_value', unknown_value=-1)  # Example: -1 as unknown value\n",
    "    oe.fit(X_train_2nd)\n",
    "    X_train_encode = oe.transform(X_train_2nd)\n",
    "    X_test_encode = oe.transform(X_test_2nd)\n",
    "    return X_train_encode, X_test_encode\n",
    "\n",
    "X_train_encode, X_test_encode = prepare_inputs(X_train_2nd, X_test_2nd)"
   ]
  },
  {
   "cell_type": "code",
   "execution_count": 11,
   "id": "7c41dfc7",
   "metadata": {},
   "outputs": [],
   "source": [
    "def prepare_targets(y_train_2nd, y_test_2nd):\n",
    "    le = LabelEncoder()\n",
    "    le.fit(y_train_2nd)\n",
    "    y_train_encode = le.transform(y_train_2nd)\n",
    "    y_test_encode = le.transform(y_test_2nd)\n",
    "    return y_train_encode, y_test_encode"
   ]
  },
  {
   "cell_type": "code",
   "execution_count": 12,
   "id": "ca322e76",
   "metadata": {},
   "outputs": [],
   "source": [
    "def select_features(X_train_2nd, y_train_2nd, X_test_2nd):\n",
    "    fs = SelectKBest(score_func=chi2, k='all')\n",
    "    fs.fit(X_train_2nd, y_train_2nd)\n",
    "    X_train_fs = fs.transform(X_train_2nd)\n",
    "    X_test_fs = fs.transform(X_test_2nd)\n",
    "    return X_train_fs, X_test_fs, fs"
   ]
  },
  {
   "cell_type": "code",
   "execution_count": 13,
   "id": "ddcf172a",
   "metadata": {},
   "outputs": [],
   "source": [
    "X_train_encode, X_test_encode = prepare_inputs(X_train_2nd, X_test_2nd)\n",
    "y_train_encode, y_test_encode = prepare_targets(y_train_2nd, y_test_2nd)\n",
    "X_train_fs, X_test_fs, fs = select_features(X_train_encode, y_train_encode, X_test_encode)"
   ]
  },
  {
   "cell_type": "code",
   "execution_count": 14,
   "id": "0fa5cfdb",
   "metadata": {},
   "outputs": [],
   "source": [
    "# for i in range(len(fs.scores_)):\n",
    "#     print('Feature %d: %f' % (i, fs.scores_[i]))"
   ]
  },
  {
   "cell_type": "code",
   "execution_count": 15,
   "id": "3c2ed13f",
   "metadata": {},
   "outputs": [
    {
     "data": {
      "image/png": "[encoded data removed]",
      "text/plain": [
       "<Figure size 1200x600 with 1 Axes>"
      ]
     },
     "metadata": {},
     "output_type": "display_data"
    }
   ],
   "source": [
    "plt.figure(figsize = (12,6))\n",
    "plt.bar([i for i in range(len(fs.scores_))], fs.scores_)\n",
    "plt.title(\" Chi-square - Feature Importance Score\", size = 20)\n",
    "plt.xlabel(\"Features/ Variables\", size = 16, color = \"black\")\n",
    "plt.ylabel(\"Importance Score\", size = 16, color = \"black\")\n",
    "plt.show()"
   ]
  },
  {
   "cell_type": "code",
   "execution_count": 16,
   "id": "a0b357f5",
   "metadata": {},
   "outputs": [],
   "source": [
    "extract_features = np.isnan(fs.scores_)\n",
    "selected_features_indices = np.where(~extract_features)[0]\n",
    "X_new_2nd = dl_features.iloc[:, selected_features_indices]"
   ]
  },
  {
   "cell_type": "code",
   "execution_count": 17,
   "id": "1c6be0f7",
   "metadata": {},
   "outputs": [
    {
     "name": "stdout",
     "output_type": "stream",
     "text": [
      " Features in total before selection: (9615, 15461)\n",
      " Features in total after selection: (9615, 12762)\n"
     ]
    }
   ],
   "source": [
    "print(f\" Features in total before selection:\", dl_features.shape)\n",
    "print(f\" Features in total after selection:\", X_new_2nd.shape)"
   ]
  },
  {
   "cell_type": "code",
   "execution_count": 18,
   "id": "7d7d2107",
   "metadata": {},
   "outputs": [
    {
     "data": {
      "text/html": [
       "<div>\n",
       "<style scoped>\n",
       "    .dataframe tbody tr th:only-of-type {\n",
       "        vertical-align: middle;\n",
       "    }\n",
       "\n",
       "    .dataframe tbody tr th {\n",
       "        vertical-align: top;\n",
       "    }\n",
       "\n",
       "    .dataframe thead th {\n",
       "        text-align: right;\n",
       "    }\n",
       "</style>\n",
       "<table border=\"1\" class=\"dataframe\">\n",
       "  <thead>\n",
       "    <tr style=\"text-align: right;\">\n",
       "      <th></th>\n",
       "      <th>Hugo_Symbol_AAA1</th>\n",
       "      <th>Hugo_Symbol_AACS</th>\n",
       "      <th>Hugo_Symbol_AADACL3</th>\n",
       "      <th>Hugo_Symbol_AAMP</th>\n",
       "      <th>Hugo_Symbol_AAR2</th>\n",
       "      <th>Hugo_Symbol_AARS</th>\n",
       "      <th>Hugo_Symbol_AARS2</th>\n",
       "      <th>Hugo_Symbol_AASDH</th>\n",
       "      <th>Hugo_Symbol_AATK</th>\n",
       "      <th>Hugo_Symbol_ABCA1</th>\n",
       "      <th>...</th>\n",
       "      <th>Tumor_Seq_Allele2_CC</th>\n",
       "      <th>Tumor_Seq_Allele2_CT</th>\n",
       "      <th>Tumor_Seq_Allele2_G</th>\n",
       "      <th>Tumor_Seq_Allele2_GA</th>\n",
       "      <th>Tumor_Seq_Allele2_GAGTTA</th>\n",
       "      <th>Tumor_Seq_Allele2_GCGGGGGGCATTT</th>\n",
       "      <th>Tumor_Seq_Allele2_T</th>\n",
       "      <th>Tumor_Seq_Allele2_TATCAGCTTTT</th>\n",
       "      <th>Tumor_Seq_Allele2_TC</th>\n",
       "      <th>Tumor_Seq_Allele2_TTTTTT</th>\n",
       "    </tr>\n",
       "  </thead>\n",
       "  <tbody>\n",
       "    <tr>\n",
       "      <th>0</th>\n",
       "      <td>0</td>\n",
       "      <td>0</td>\n",
       "      <td>0</td>\n",
       "      <td>0</td>\n",
       "      <td>0</td>\n",
       "      <td>0</td>\n",
       "      <td>0</td>\n",
       "      <td>0</td>\n",
       "      <td>0</td>\n",
       "      <td>0</td>\n",
       "      <td>...</td>\n",
       "      <td>0</td>\n",
       "      <td>0</td>\n",
       "      <td>0</td>\n",
       "      <td>0</td>\n",
       "      <td>0</td>\n",
       "      <td>0</td>\n",
       "      <td>0</td>\n",
       "      <td>0</td>\n",
       "      <td>0</td>\n",
       "      <td>0</td>\n",
       "    </tr>\n",
       "    <tr>\n",
       "      <th>1</th>\n",
       "      <td>0</td>\n",
       "      <td>0</td>\n",
       "      <td>0</td>\n",
       "      <td>0</td>\n",
       "      <td>0</td>\n",
       "      <td>0</td>\n",
       "      <td>0</td>\n",
       "      <td>0</td>\n",
       "      <td>0</td>\n",
       "      <td>0</td>\n",
       "      <td>...</td>\n",
       "      <td>0</td>\n",
       "      <td>0</td>\n",
       "      <td>0</td>\n",
       "      <td>0</td>\n",
       "      <td>0</td>\n",
       "      <td>0</td>\n",
       "      <td>1</td>\n",
       "      <td>0</td>\n",
       "      <td>0</td>\n",
       "      <td>0</td>\n",
       "    </tr>\n",
       "    <tr>\n",
       "      <th>2</th>\n",
       "      <td>0</td>\n",
       "      <td>0</td>\n",
       "      <td>0</td>\n",
       "      <td>0</td>\n",
       "      <td>0</td>\n",
       "      <td>0</td>\n",
       "      <td>0</td>\n",
       "      <td>0</td>\n",
       "      <td>0</td>\n",
       "      <td>0</td>\n",
       "      <td>...</td>\n",
       "      <td>0</td>\n",
       "      <td>0</td>\n",
       "      <td>1</td>\n",
       "      <td>0</td>\n",
       "      <td>0</td>\n",
       "      <td>0</td>\n",
       "      <td>0</td>\n",
       "      <td>0</td>\n",
       "      <td>0</td>\n",
       "      <td>0</td>\n",
       "    </tr>\n",
       "    <tr>\n",
       "      <th>3</th>\n",
       "      <td>0</td>\n",
       "      <td>0</td>\n",
       "      <td>0</td>\n",
       "      <td>0</td>\n",
       "      <td>0</td>\n",
       "      <td>0</td>\n",
       "      <td>0</td>\n",
       "      <td>0</td>\n",
       "      <td>0</td>\n",
       "      <td>0</td>\n",
       "      <td>...</td>\n",
       "      <td>0</td>\n",
       "      <td>0</td>\n",
       "      <td>0</td>\n",
       "      <td>0</td>\n",
       "      <td>0</td>\n",
       "      <td>0</td>\n",
       "      <td>1</td>\n",
       "      <td>0</td>\n",
       "      <td>0</td>\n",
       "      <td>0</td>\n",
       "    </tr>\n",
       "    <tr>\n",
       "      <th>4</th>\n",
       "      <td>0</td>\n",
       "      <td>0</td>\n",
       "      <td>0</td>\n",
       "      <td>0</td>\n",
       "      <td>0</td>\n",
       "      <td>0</td>\n",
       "      <td>0</td>\n",
       "      <td>0</td>\n",
       "      <td>0</td>\n",
       "      <td>0</td>\n",
       "      <td>...</td>\n",
       "      <td>0</td>\n",
       "      <td>0</td>\n",
       "      <td>0</td>\n",
       "      <td>0</td>\n",
       "      <td>0</td>\n",
       "      <td>0</td>\n",
       "      <td>0</td>\n",
       "      <td>0</td>\n",
       "      <td>0</td>\n",
       "      <td>0</td>\n",
       "    </tr>\n",
       "    <tr>\n",
       "      <th>...</th>\n",
       "      <td>...</td>\n",
       "      <td>...</td>\n",
       "      <td>...</td>\n",
       "      <td>...</td>\n",
       "      <td>...</td>\n",
       "      <td>...</td>\n",
       "      <td>...</td>\n",
       "      <td>...</td>\n",
       "      <td>...</td>\n",
       "      <td>...</td>\n",
       "      <td>...</td>\n",
       "      <td>...</td>\n",
       "      <td>...</td>\n",
       "      <td>...</td>\n",
       "      <td>...</td>\n",
       "      <td>...</td>\n",
       "      <td>...</td>\n",
       "      <td>...</td>\n",
       "      <td>...</td>\n",
       "      <td>...</td>\n",
       "      <td>...</td>\n",
       "    </tr>\n",
       "    <tr>\n",
       "      <th>9610</th>\n",
       "      <td>0</td>\n",
       "      <td>0</td>\n",
       "      <td>0</td>\n",
       "      <td>0</td>\n",
       "      <td>0</td>\n",
       "      <td>0</td>\n",
       "      <td>0</td>\n",
       "      <td>0</td>\n",
       "      <td>0</td>\n",
       "      <td>0</td>\n",
       "      <td>...</td>\n",
       "      <td>0</td>\n",
       "      <td>0</td>\n",
       "      <td>0</td>\n",
       "      <td>0</td>\n",
       "      <td>0</td>\n",
       "      <td>0</td>\n",
       "      <td>1</td>\n",
       "      <td>0</td>\n",
       "      <td>0</td>\n",
       "      <td>0</td>\n",
       "    </tr>\n",
       "    <tr>\n",
       "      <th>9611</th>\n",
       "      <td>0</td>\n",
       "      <td>0</td>\n",
       "      <td>0</td>\n",
       "      <td>0</td>\n",
       "      <td>0</td>\n",
       "      <td>0</td>\n",
       "      <td>0</td>\n",
       "      <td>0</td>\n",
       "      <td>0</td>\n",
       "      <td>0</td>\n",
       "      <td>...</td>\n",
       "      <td>0</td>\n",
       "      <td>0</td>\n",
       "      <td>0</td>\n",
       "      <td>0</td>\n",
       "      <td>0</td>\n",
       "      <td>0</td>\n",
       "      <td>0</td>\n",
       "      <td>0</td>\n",
       "      <td>0</td>\n",
       "      <td>0</td>\n",
       "    </tr>\n",
       "    <tr>\n",
       "      <th>9612</th>\n",
       "      <td>0</td>\n",
       "      <td>0</td>\n",
       "      <td>0</td>\n",
       "      <td>0</td>\n",
       "      <td>0</td>\n",
       "      <td>0</td>\n",
       "      <td>0</td>\n",
       "      <td>0</td>\n",
       "      <td>0</td>\n",
       "      <td>0</td>\n",
       "      <td>...</td>\n",
       "      <td>0</td>\n",
       "      <td>0</td>\n",
       "      <td>1</td>\n",
       "      <td>0</td>\n",
       "      <td>0</td>\n",
       "      <td>0</td>\n",
       "      <td>0</td>\n",
       "      <td>0</td>\n",
       "      <td>0</td>\n",
       "      <td>0</td>\n",
       "    </tr>\n",
       "    <tr>\n",
       "      <th>9613</th>\n",
       "      <td>0</td>\n",
       "      <td>0</td>\n",
       "      <td>0</td>\n",
       "      <td>0</td>\n",
       "      <td>0</td>\n",
       "      <td>0</td>\n",
       "      <td>0</td>\n",
       "      <td>0</td>\n",
       "      <td>0</td>\n",
       "      <td>0</td>\n",
       "      <td>...</td>\n",
       "      <td>0</td>\n",
       "      <td>0</td>\n",
       "      <td>0</td>\n",
       "      <td>0</td>\n",
       "      <td>0</td>\n",
       "      <td>0</td>\n",
       "      <td>0</td>\n",
       "      <td>0</td>\n",
       "      <td>0</td>\n",
       "      <td>0</td>\n",
       "    </tr>\n",
       "    <tr>\n",
       "      <th>9614</th>\n",
       "      <td>0</td>\n",
       "      <td>0</td>\n",
       "      <td>0</td>\n",
       "      <td>0</td>\n",
       "      <td>0</td>\n",
       "      <td>0</td>\n",
       "      <td>0</td>\n",
       "      <td>0</td>\n",
       "      <td>0</td>\n",
       "      <td>0</td>\n",
       "      <td>...</td>\n",
       "      <td>0</td>\n",
       "      <td>0</td>\n",
       "      <td>0</td>\n",
       "      <td>0</td>\n",
       "      <td>0</td>\n",
       "      <td>0</td>\n",
       "      <td>0</td>\n",
       "      <td>0</td>\n",
       "      <td>0</td>\n",
       "      <td>0</td>\n",
       "    </tr>\n",
       "  </tbody>\n",
       "</table>\n",
       "<p>9615 rows × 12762 columns</p>\n",
       "</div>"
      ],
      "text/plain": [
       "      Hugo_Symbol_AAA1  Hugo_Symbol_AACS  Hugo_Symbol_AADACL3  \\\n",
       "0                    0                 0                    0   \n",
       "1                    0                 0                    0   \n",
       "2                    0                 0                    0   \n",
       "3                    0                 0                    0   \n",
       "4                    0                 0                    0   \n",
       "...                ...               ...                  ...   \n",
       "9610                 0                 0                    0   \n",
       "9611                 0                 0                    0   \n",
       "9612                 0                 0                    0   \n",
       "9613                 0                 0                    0   \n",
       "9614                 0                 0                    0   \n",
       "\n",
       "      Hugo_Symbol_AAMP  Hugo_Symbol_AAR2  Hugo_Symbol_AARS  Hugo_Symbol_AARS2  \\\n",
       "0                    0                 0                 0                  0   \n",
       "1                    0                 0                 0                  0   \n",
       "2                    0                 0                 0                  0   \n",
       "3                    0                 0                 0                  0   \n",
       "4                    0                 0                 0                  0   \n",
       "...                ...               ...               ...                ...   \n",
       "9610                 0                 0                 0                  0   \n",
       "9611                 0                 0                 0                  0   \n",
       "9612                 0                 0                 0                  0   \n",
       "9613                 0                 0                 0                  0   \n",
       "9614                 0                 0                 0                  0   \n",
       "\n",
       "      Hugo_Symbol_AASDH  Hugo_Symbol_AATK  Hugo_Symbol_ABCA1  ...  \\\n",
       "0                     0                 0                  0  ...   \n",
       "1                     0                 0                  0  ...   \n",
       "2                     0                 0                  0  ...   \n",
       "3                     0                 0                  0  ...   \n",
       "4                     0                 0                  0  ...   \n",
       "...                 ...               ...                ...  ...   \n",
       "9610                  0                 0                  0  ...   \n",
       "9611                  0                 0                  0  ...   \n",
       "9612                  0                 0                  0  ...   \n",
       "9613                  0                 0                  0  ...   \n",
       "9614                  0                 0                  0  ...   \n",
       "\n",
       "      Tumor_Seq_Allele2_CC  Tumor_Seq_Allele2_CT  Tumor_Seq_Allele2_G  \\\n",
       "0                        0                     0                    0   \n",
       "1                        0                     0                    0   \n",
       "2                        0                     0                    1   \n",
       "3                        0                     0                    0   \n",
       "4                        0                     0                    0   \n",
       "...                    ...                   ...                  ...   \n",
       "9610                     0                     0                    0   \n",
       "9611                     0                     0                    0   \n",
       "9612                     0                     0                    1   \n",
       "9613                     0                     0                    0   \n",
       "9614                     0                     0                    0   \n",
       "\n",
       "      Tumor_Seq_Allele2_GA  Tumor_Seq_Allele2_GAGTTA  \\\n",
       "0                        0                         0   \n",
       "1                        0                         0   \n",
       "2                        0                         0   \n",
       "3                        0                         0   \n",
       "4                        0                         0   \n",
       "...                    ...                       ...   \n",
       "9610                     0                         0   \n",
       "9611                     0                         0   \n",
       "9612                     0                         0   \n",
       "9613                     0                         0   \n",
       "9614                     0                         0   \n",
       "\n",
       "      Tumor_Seq_Allele2_GCGGGGGGCATTT  Tumor_Seq_Allele2_T  \\\n",
       "0                                   0                    0   \n",
       "1                                   0                    1   \n",
       "2                                   0                    0   \n",
       "3                                   0                    1   \n",
       "4                                   0                    0   \n",
       "...                               ...                  ...   \n",
       "9610                                0                    1   \n",
       "9611                                0                    0   \n",
       "9612                                0                    0   \n",
       "9613                                0                    0   \n",
       "9614                                0                    0   \n",
       "\n",
       "      Tumor_Seq_Allele2_TATCAGCTTTT  Tumor_Seq_Allele2_TC  \\\n",
       "0                                 0                     0   \n",
       "1                                 0                     0   \n",
       "2                                 0                     0   \n",
       "3                                 0                     0   \n",
       "4                                 0                     0   \n",
       "...                             ...                   ...   \n",
       "9610                              0                     0   \n",
       "9611                              0                     0   \n",
       "9612                              0                     0   \n",
       "9613                              0                     0   \n",
       "9614                              0                     0   \n",
       "\n",
       "      Tumor_Seq_Allele2_TTTTTT  \n",
       "0                            0  \n",
       "1                            0  \n",
       "2                            0  \n",
       "3                            0  \n",
       "4                            0  \n",
       "...                        ...  \n",
       "9610                         0  \n",
       "9611                         0  \n",
       "9612                         0  \n",
       "9613                         0  \n",
       "9614                         0  \n",
       "\n",
       "[9615 rows x 12762 columns]"
      ]
     },
     "execution_count": 18,
     "metadata": {},
     "output_type": "execute_result"
    }
   ],
   "source": [
    "dumme_features = pd.get_dummies(X_new_2nd)\n",
    "dumme_features"
   ]
  },
  {
   "cell_type": "code",
   "execution_count": 19,
   "id": "cc6af344",
   "metadata": {},
   "outputs": [
    {
     "data": {
      "text/plain": [
       "(      Hugo_Symbol_AAA1  Hugo_Symbol_AACS  Hugo_Symbol_AADACL3  \\\n",
       " 0                    0                 0                    0   \n",
       " 1                    0                 0                    0   \n",
       " 2                    0                 0                    0   \n",
       " 3                    0                 0                    0   \n",
       " 4                    0                 0                    0   \n",
       " ...                ...               ...                  ...   \n",
       " 9610                 0                 0                    0   \n",
       " 9611                 0                 0                    0   \n",
       " 9612                 0                 0                    0   \n",
       " 9613                 0                 0                    0   \n",
       " 9614                 0                 0                    0   \n",
       " \n",
       "       Hugo_Symbol_AAMP  Hugo_Symbol_AAR2  Hugo_Symbol_AARS  Hugo_Symbol_AARS2  \\\n",
       " 0                    0                 0                 0                  0   \n",
       " 1                    0                 0                 0                  0   \n",
       " 2                    0                 0                 0                  0   \n",
       " 3                    0                 0                 0                  0   \n",
       " 4                    0                 0                 0                  0   \n",
       " ...                ...               ...               ...                ...   \n",
       " 9610                 0                 0                 0                  0   \n",
       " 9611                 0                 0                 0                  0   \n",
       " 9612                 0                 0                 0                  0   \n",
       " 9613                 0                 0                 0                  0   \n",
       " 9614                 0                 0                 0                  0   \n",
       " \n",
       "       Hugo_Symbol_AASDH  Hugo_Symbol_AATK  Hugo_Symbol_ABCA1  ...  \\\n",
       " 0                     0                 0                  0  ...   \n",
       " 1                     0                 0                  0  ...   \n",
       " 2                     0                 0                  0  ...   \n",
       " 3                     0                 0                  0  ...   \n",
       " 4                     0                 0                  0  ...   \n",
       " ...                 ...               ...                ...  ...   \n",
       " 9610                  0                 0                  0  ...   \n",
       " 9611                  0                 0                  0  ...   \n",
       " 9612                  0                 0                  0  ...   \n",
       " 9613                  0                 0                  0  ...   \n",
       " 9614                  0                 0                  0  ...   \n",
       " \n",
       "       Tumor_Seq_Allele2_CC  Tumor_Seq_Allele2_CT  Tumor_Seq_Allele2_G  \\\n",
       " 0                        0                     0                    0   \n",
       " 1                        0                     0                    0   \n",
       " 2                        0                     0                    1   \n",
       " 3                        0                     0                    0   \n",
       " 4                        0                     0                    0   \n",
       " ...                    ...                   ...                  ...   \n",
       " 9610                     0                     0                    0   \n",
       " 9611                     0                     0                    0   \n",
       " 9612                     0                     0                    1   \n",
       " 9613                     0                     0                    0   \n",
       " 9614                     0                     0                    0   \n",
       " \n",
       "       Tumor_Seq_Allele2_GA  Tumor_Seq_Allele2_GAGTTA  \\\n",
       " 0                        0                         0   \n",
       " 1                        0                         0   \n",
       " 2                        0                         0   \n",
       " 3                        0                         0   \n",
       " 4                        0                         0   \n",
       " ...                    ...                       ...   \n",
       " 9610                     0                         0   \n",
       " 9611                     0                         0   \n",
       " 9612                     0                         0   \n",
       " 9613                     0                         0   \n",
       " 9614                     0                         0   \n",
       " \n",
       "       Tumor_Seq_Allele2_GCGGGGGGCATTT  Tumor_Seq_Allele2_T  \\\n",
       " 0                                   0                    0   \n",
       " 1                                   0                    1   \n",
       " 2                                   0                    0   \n",
       " 3                                   0                    1   \n",
       " 4                                   0                    0   \n",
       " ...                               ...                  ...   \n",
       " 9610                                0                    1   \n",
       " 9611                                0                    0   \n",
       " 9612                                0                    0   \n",
       " 9613                                0                    0   \n",
       " 9614                                0                    0   \n",
       " \n",
       "       Tumor_Seq_Allele2_TATCAGCTTTT  Tumor_Seq_Allele2_TC  \\\n",
       " 0                                 0                     0   \n",
       " 1                                 0                     0   \n",
       " 2                                 0                     0   \n",
       " 3                                 0                     0   \n",
       " 4                                 0                     0   \n",
       " ...                             ...                   ...   \n",
       " 9610                              0                     0   \n",
       " 9611                              0                     0   \n",
       " 9612                              0                     0   \n",
       " 9613                              0                     0   \n",
       " 9614                              0                     0   \n",
       " \n",
       "       Tumor_Seq_Allele2_TTTTTT  \n",
       " 0                            0  \n",
       " 1                            0  \n",
       " 2                            0  \n",
       " 3                            0  \n",
       " 4                            0  \n",
       " ...                        ...  \n",
       " 9610                         0  \n",
       " 9611                         0  \n",
       " 9612                         0  \n",
       " 9613                         0  \n",
       " 9614                         0  \n",
       " \n",
       " [9615 rows x 12762 columns],\n",
       " array([0, 0, 0, ..., 1, 1, 1]))"
      ]
     },
     "execution_count": 19,
     "metadata": {},
     "output_type": "execute_result"
    }
   ],
   "source": [
    "data = (dumme_features, dl_target)\n",
    "data"
   ]
  },
  {
   "cell_type": "code",
   "execution_count": 20,
   "id": "4aa6aacf",
   "metadata": {},
   "outputs": [],
   "source": [
    "label = LabelEncoder()\n",
    "y_encoded = label.fit_transform(data[1])\n",
    "data = (data[0], y_encoded)"
   ]
  },
  {
   "cell_type": "code",
   "execution_count": 21,
   "id": "25583c3f",
   "metadata": {},
   "outputs": [],
   "source": [
    "# Shuffle the data\n",
    "dl_features_shuffled_2nd, dl_target_shuffled_2nd = shuffle(dumme_features, y_encoded, random_state=42)"
   ]
  },
  {
   "cell_type": "code",
   "execution_count": 22,
   "id": "e6dee4d2",
   "metadata": {},
   "outputs": [],
   "source": [
    "skf = StratifiedKFold(n_splits=5, shuffle=True, random_state=42)\n",
    "\n",
    "for train_index, test_index in skf.split(dumme_features, y_encoded):\n",
    "    X_train_2, X_test_2 = dl_features_shuffled_2nd.iloc[train_index], dl_features_shuffled_2nd.iloc[test_index]\n",
    "    y_train_2, y_test_2 = dl_target_shuffled_2nd[train_index], dl_target_shuffled_2nd[test_index]"
   ]
  },
  {
   "cell_type": "code",
   "execution_count": 23,
   "id": "fc618dfa",
   "metadata": {},
   "outputs": [
    {
     "name": "stdout",
     "output_type": "stream",
     "text": [
      "(7692, 12762) (1923, 12762)\n",
      "(7692,) (1923,)\n"
     ]
    }
   ],
   "source": [
    "print(X_train_2.shape, X_test_2.shape)\n",
    "print(y_train_2.shape, y_test_2.shape)"
   ]
  },
  {
   "cell_type": "code",
   "execution_count": 24,
   "id": "0a6c6b21",
   "metadata": {},
   "outputs": [
    {
     "name": "stdout",
     "output_type": "stream",
     "text": [
      "WARNING:tensorflow:From C:\\Users\\dimit\\anaconda3\\Lib\\site-packages\\keras\\src\\backend.py:873: The name tf.get_default_graph is deprecated. Please use tf.compat.v1.get_default_graph instead.\n",
      "\n"
     ]
    }
   ],
   "source": [
    "from tensorflow.keras.layers import Dropout\n",
    "from tensorflow.keras import regularizers\n",
    "\n",
    "tf.random.set_seed(42)\n",
    "\n",
    "input_size = 12762 # the size of columns in features\n",
    "\n",
    "sequential_model_1 = Sequential([Dense(units=16, input_shape=(input_size, ), activation=\"relu\"),\n",
    "                                 Dropout(rate=0.4),\n",
    "                                 Dense(units=32, activation=\"relu\"),\n",
    "                                 Dropout(rate=0.4),\n",
    "                                 Dense(units=3, activation=\"softmax\")\n",
    "                                ])"
   ]
  },
  {
   "cell_type": "code",
   "execution_count": 25,
   "id": "e2130ebe",
   "metadata": {},
   "outputs": [
    {
     "name": "stdout",
     "output_type": "stream",
     "text": [
      "Model: \"sequential\"\n",
      "_________________________________________________________________\n",
      " Layer (type)                Output Shape              Param #   \n",
      "=================================================================\n",
      " dense (Dense)               (None, 16)                204208    \n",
      "                                                                 \n",
      " dropout (Dropout)           (None, 16)                0         \n",
      "                                                                 \n",
      " dense_1 (Dense)             (None, 32)                544       \n",
      "                                                                 \n",
      " dropout_1 (Dropout)         (None, 32)                0         \n",
      "                                                                 \n",
      " dense_2 (Dense)             (None, 3)                 99        \n",
      "                                                                 \n",
      "=================================================================\n",
      "Total params: 204851 (800.20 KB)\n",
      "Trainable params: 204851 (800.20 KB)\n",
      "Non-trainable params: 0 (0.00 Byte)\n",
      "_________________________________________________________________\n"
     ]
    }
   ],
   "source": [
    "sequential_model_1.summary()"
   ]
  },
  {
   "cell_type": "code",
   "execution_count": 26,
   "id": "306e5644",
   "metadata": {},
   "outputs": [],
   "source": [
    "# Define the layer type of the model you will use (output_name)\n",
    "# We can find in the sequential_model_1.summary()\n",
    "# This is last layer (type)\n",
    "\n",
    "output_name = \"dense_2\"\n",
    "\n",
    "y_train_2_reshaped = to_categorical(y_train_2, num_classes=3)\n",
    "\n",
    "metrics_ = [\n",
    "      keras.metrics.BinaryCrossentropy(name='categorical_crossentropy'),  # same as model's loss\n",
    "      keras.metrics.CategoricalAccuracy(name=\"categorical_accuracy\", dtype=None),\n",
    "      keras.metrics.BinaryAccuracy(name='accuracy'),\n",
    "      keras.metrics.Precision(name='precision'),\n",
    "      keras.metrics.Recall(name='recall'),\n",
    "      keras.metrics.AUC(name='auc'),\n",
    "      keras.metrics.AUC(name='prc', curve='PR'), # precision-recall curve\n",
    "]\n",
    "\n",
    "\n",
    "losses = {\n",
    "    output_name: {\n",
    "        'categorical_crossentropy': tf.keras.losses.CategoricalCrossentropy()\n",
    "    }\n",
    "}\n",
    "\n",
    "## Define the weight of the losses metrics\n",
    "\n",
    "weight_losses = {\n",
    "    output_name: {\n",
    "        \"categorical_crossentropy\": 1.0\n",
    "    }\n",
    "}\n",
    "\n",
    "## This step prepares the model to be trained\n",
    "\n",
    "sequential_model_1.compile(optimizer=Adam(learning_rate=0.001),\n",
    "                           loss=losses,\n",
    "                           loss_weights=weight_losses,\n",
    "                           metrics=metrics_,\n",
    "                           run_eagerly=True)\n",
    "\n",
    "# Running eagerly means that your model will be run step by step, \n",
    "# like Python code. The model might run slower,\n",
    "# but it should become easier to debug it by stepping into \n",
    "# individual layer calls."
   ]
  },
  {
   "cell_type": "code",
   "execution_count": 27,
   "id": "0fc9900b",
   "metadata": {},
   "outputs": [
    {
     "name": "stdout",
     "output_type": "stream",
     "text": [
      "Epoch 1/30\n",
      "WARNING:tensorflow:From C:\\Users\\dimit\\anaconda3\\Lib\\site-packages\\keras\\src\\utils\\tf_utils.py:492: The name tf.ragged.RaggedTensorValue is deprecated. Please use tf.compat.v1.ragged.RaggedTensorValue instead.\n",
      "\n",
      "616/616 [==============================] - 73s 118ms/step - loss: 0.6613 - categorical_crossentropy: 0.4943 - categorical_accuracy: 0.7954 - accuracy: 0.8479 - precision: 0.7992 - recall: 0.7260 - auc: 0.8777 - prc: 0.7882 - val_loss: 0.5634 - val_categorical_crossentropy: 0.4419 - val_categorical_accuracy: 0.7966 - val_accuracy: 0.8644 - val_precision: 0.7966 - val_recall: 0.7966 - val_auc: 0.9220 - val_prc: 0.8713\n",
      "Epoch 2/30\n",
      "616/616 [==============================] - 93s 151ms/step - loss: 0.4945 - categorical_crossentropy: 0.3982 - categorical_accuracy: 0.8009 - accuracy: 0.8764 - precision: 0.8280 - recall: 0.7941 - auc: 0.9386 - prc: 0.8960 - val_loss: 0.4520 - val_categorical_crossentropy: 0.3652 - val_categorical_accuracy: 0.7966 - val_accuracy: 0.8763 - val_precision: 0.8293 - val_recall: 0.7921 - val_auc: 0.9451 - val_prc: 0.9010\n",
      "Epoch 3/30\n",
      "616/616 [==============================] - 141s 229ms/step - loss: 0.3415 - categorical_crossentropy: 0.3114 - categorical_accuracy: 0.8724 - accuracy: 0.9149 - precision: 0.9116 - recall: 0.8248 - auc: 0.9704 - prc: 0.9493 - val_loss: 0.3862 - val_categorical_crossentropy: 0.3368 - val_categorical_accuracy: 0.8772 - val_accuracy: 0.9157 - val_precision: 0.8938 - val_recall: 0.8480 - val_auc: 0.9584 - val_prc: 0.9227\n",
      "Epoch 4/30\n",
      "616/616 [==============================] - 140s 228ms/step - loss: 0.2284 - categorical_crossentropy: 0.2398 - categorical_accuracy: 0.9231 - accuracy: 0.9471 - precision: 0.9418 - recall: 0.8968 - auc: 0.9874 - prc: 0.9782 - val_loss: 0.4009 - val_categorical_crossentropy: 0.3376 - val_categorical_accuracy: 0.8791 - val_accuracy: 0.9170 - val_precision: 0.8937 - val_recall: 0.8525 - val_auc: 0.9554 - val_prc: 0.9153\n",
      "Epoch 5/30\n",
      "616/616 [==============================] - 139s 226ms/step - loss: 0.1632 - categorical_crossentropy: 0.1870 - categorical_accuracy: 0.9457 - accuracy: 0.9636 - precision: 0.9573 - recall: 0.9324 - auc: 0.9935 - prc: 0.9882 - val_loss: 0.4462 - val_categorical_crossentropy: 0.3296 - val_categorical_accuracy: 0.8551 - val_accuracy: 0.9036 - val_precision: 0.8706 - val_recall: 0.8350 - val_auc: 0.9457 - val_prc: 0.8989\n",
      "Epoch 6/30\n",
      "616/616 [==============================] - 134s 217ms/step - loss: 0.1306 - categorical_crossentropy: 0.1586 - categorical_accuracy: 0.9592 - accuracy: 0.9727 - precision: 0.9669 - recall: 0.9506 - auc: 0.9956 - prc: 0.9921 - val_loss: 0.4674 - val_categorical_crossentropy: 0.2990 - val_categorical_accuracy: 0.8635 - val_accuracy: 0.9082 - val_precision: 0.8680 - val_recall: 0.8545 - val_auc: 0.9456 - val_prc: 0.8964\n",
      "Epoch 7/30\n",
      "616/616 [==============================] - 137s 223ms/step - loss: 0.1048 - categorical_crossentropy: 0.1355 - categorical_accuracy: 0.9654 - accuracy: 0.9777 - precision: 0.9722 - recall: 0.9605 - auc: 0.9973 - prc: 0.9949 - val_loss: 0.5141 - val_categorical_crossentropy: 0.3089 - val_categorical_accuracy: 0.8590 - val_accuracy: 0.9045 - val_precision: 0.8621 - val_recall: 0.8493 - val_auc: 0.9400 - val_prc: 0.8854\n"
     ]
    }
   ],
   "source": [
    "################################### Information ################################### \n",
    "\n",
    "# epochs=30 means that the model will be trained 30 times on the dataset before training finish.\n",
    "# epoch=16 is enough \n",
    "# Shuffle = The process of randomizing the order of data samples in a dataset, \n",
    "# typically used during training to ensure that the model generalizes well by seeing a diverse set of examples.\n",
    "\n",
    "################################### Important note ################################### \n",
    "\n",
    "# Your data must been shuffled before fitting the model.\n",
    "# If you data are not shuffle already befor fit your training data\n",
    "# the the code below will shuffle the data but will be only the taining\n",
    "# resulting probably a bad performance\n",
    "\n",
    "from tensorflow.keras.callbacks import EarlyStopping\n",
    "\n",
    "tf.random.set_seed(42)\n",
    "\n",
    "early_stopping = EarlyStopping(monitor='val_loss', patience=4, restore_best_weights=True)\n",
    "\n",
    "sequential_fit_1 = sequential_model_1.fit(x=X_train_2, \n",
    "                                          y=y_train_2_reshaped, \n",
    "                                          validation_split=0.2, \n",
    "                                          batch_size=10, # batch_size = 10: The number of training utilized in one iteration.\n",
    "                                          epochs=30,\n",
    "                                          shuffle= True,\n",
    "                                          verbose=1, \n",
    "                                          callbacks=[early_stopping]\n",
    "                                         )# verbose = 2"
   ]
  },
  {
   "cell_type": "code",
   "execution_count": 60,
   "id": "55c3ef94",
   "metadata": {},
   "outputs": [
    {
     "data": {
      "application/vnd.plotly.v1+json": {
       "config": {
        "plotlyServerURL": "https://plot.ly"
       },
       "data": [
        {
         "mode": "lines+markers",
         "name": "Loss",
         "type": "scatter",
         "x": [
          1,
          2,
          3,
          4,
          5,
          6,
          7
         ],
         "y": [
          0.6613447666168213,
          0.4945385456085205,
          0.3415064215660095,
          0.2283647060394287,
          0.16321159899234772,
          0.13061659038066864,
          0.10482236742973328
         ]
        },
        {
         "mode": "lines+markers",
         "name": "Val Loss",
         "type": "scatter",
         "x": [
          1,
          2,
          3,
          4,
          5,
          6,
          7
         ],
         "y": [
          0.5633659362792969,
          0.4519742429256439,
          0.38619208335876465,
          0.40094414353370667,
          0.44620785117149353,
          0.46739664673805237,
          0.5140789151191711
         ]
        },
        {
         "mode": "lines+markers",
         "name": "Accuracy",
         "type": "scatter",
         "x": [
          1,
          2,
          3,
          4,
          5,
          6,
          7
         ],
         "y": [
          0.8478791117668152,
          0.8763746619224548,
          0.9149466156959534,
          0.9471260905265808,
          0.9635949730873108,
          0.9726962447166443,
          0.9776802659034729
         ]
        },
        {
         "mode": "lines+markers",
         "name": "Val Accuracy",
         "type": "scatter",
         "x": [
          1,
          2,
          3,
          4,
          5,
          6,
          7
         ],
         "y": [
          0.8644140958786011,
          0.8763266205787659,
          0.9157461524009705,
          0.9170457124710083,
          0.9036170840263367,
          0.908165454864502,
          0.904483437538147
         ]
        },
        {
         "mode": "lines+markers",
         "name": "Precision",
         "type": "scatter",
         "x": [
          1,
          2,
          3,
          4,
          5,
          6,
          7
         ],
         "y": [
          0.7992485165596008,
          0.827995240688324,
          0.9116220474243164,
          0.9417989253997803,
          0.9572834968566895,
          0.9669367074966431,
          0.9721993803977966
         ]
        },
        {
         "mode": "lines+markers",
         "name": "Val Precision",
         "type": "scatter",
         "x": [
          1,
          2,
          3,
          4,
          5,
          6,
          7
         ],
         "y": [
          0.7966212034225464,
          0.8292517066001892,
          0.8938356041908264,
          0.8937329649925232,
          0.8705962300300598,
          0.867986798286438,
          0.8621371984481812
         ]
        },
        {
         "mode": "lines+markers",
         "name": "Recall",
         "type": "scatter",
         "x": [
          1,
          2,
          3,
          4,
          5,
          6,
          7
         ],
         "y": [
          0.7259873151779175,
          0.7940841913223267,
          0.8248009085655212,
          0.896798312664032,
          0.9323906898498535,
          0.9505932331085205,
          0.9605070948600769
         ]
        },
        {
         "mode": "lines+markers",
         "name": "Val Recall",
         "type": "scatter",
         "x": [
          1,
          2,
          3,
          4,
          5,
          6,
          7
         ],
         "y": [
          0.7966212034225464,
          0.7920727729797363,
          0.847953200340271,
          0.852501630783081,
          0.8349577784538269,
          0.8544509410858154,
          0.8492527604103088
         ]
        },
        {
         "mode": "lines+markers",
         "name": "Auc",
         "type": "scatter",
         "x": [
          1,
          2,
          3,
          4,
          5,
          6,
          7
         ],
         "y": [
          0.8777435421943665,
          0.9385861754417419,
          0.9703775644302368,
          0.9874104857444763,
          0.9934706687927246,
          0.9956306219100952,
          0.9972623586654663
         ]
        },
        {
         "mode": "lines+markers",
         "name": "Val Auc",
         "type": "scatter",
         "x": [
          1,
          2,
          3,
          4,
          5,
          6,
          7
         ],
         "y": [
          0.9220083951950073,
          0.9451093673706055,
          0.9584090113639832,
          0.9553959965705872,
          0.9456978440284729,
          0.9455511569976807,
          0.9399946928024292
         ]
        }
       ],
       "layout": {
        "showlegend": true,
        "template": {
         "data": {
          "bar": [
           {
            "error_x": {
             "color": "#2a3f5f"
            },
            "error_y": {
             "color": "#2a3f5f"
            },
            "marker": {
             "line": {
              "color": "#E5ECF6",
              "width": 0.5
             },
             "pattern": {
              "fillmode": "overlay",
              "size": 10,
              "solidity": 0.2
             }
            },
            "type": "bar"
           }
          ],
          "barpolar": [
           {
            "marker": {
             "line": {
              "color": "#E5ECF6",
              "width": 0.5
             },
             "pattern": {
              "fillmode": "overlay",
              "size": 10,
              "solidity": 0.2
             }
            },
            "type": "barpolar"
           }
          ],
          "carpet": [
           {
            "aaxis": {
             "endlinecolor": "#2a3f5f",
             "gridcolor": "white",
             "linecolor": "white",
             "minorgridcolor": "white",
             "startlinecolor": "#2a3f5f"
            },
            "baxis": {
             "endlinecolor": "#2a3f5f",
             "gridcolor": "white",
             "linecolor": "white",
             "minorgridcolor": "white",
             "startlinecolor": "#2a3f5f"
            },
            "type": "carpet"
           }
          ],
          "choropleth": [
           {
            "colorbar": {
             "outlinewidth": 0,
             "ticks": ""
            },
            "type": "choropleth"
           }
          ],
          "contour": [
           {
            "colorbar": {
             "outlinewidth": 0,
             "ticks": ""
            },
            "colorscale": [
             [
              0,
              "#0d0887"
             ],
             [
              0.1111111111111111,
              "#46039f"
             ],
             [
              0.2222222222222222,
              "#7201a8"
             ],
             [
              0.3333333333333333,
              "#9c179e"
             ],
             [
              0.4444444444444444,
              "#bd3786"
             ],
             [
              0.5555555555555556,
              "#d8576b"
             ],
             [
              0.6666666666666666,
              "#ed7953"
             ],
             [
              0.7777777777777778,
              "#fb9f3a"
             ],
             [
              0.8888888888888888,
              "#fdca26"
             ],
             [
              1,
              "#f0f921"
             ]
            ],
            "type": "contour"
           }
          ],
          "contourcarpet": [
           {
            "colorbar": {
             "outlinewidth": 0,
             "ticks": ""
            },
            "type": "contourcarpet"
           }
          ],
          "heatmap": [
           {
            "colorbar": {
             "outlinewidth": 0,
             "ticks": ""
            },
            "colorscale": [
             [
              0,
              "#0d0887"
             ],
             [
              0.1111111111111111,
              "#46039f"
             ],
             [
              0.2222222222222222,
              "#7201a8"
             ],
             [
              0.3333333333333333,
              "#9c179e"
             ],
             [
              0.4444444444444444,
              "#bd3786"
             ],
             [
              0.5555555555555556,
              "#d8576b"
             ],
             [
              0.6666666666666666,
              "#ed7953"
             ],
             [
              0.7777777777777778,
              "#fb9f3a"
             ],
             [
              0.8888888888888888,
              "#fdca26"
             ],
             [
              1,
              "#f0f921"
             ]
            ],
            "type": "heatmap"
           }
          ],
          "heatmapgl": [
           {
            "colorbar": {
             "outlinewidth": 0,
             "ticks": ""
            },
            "colorscale": [
             [
              0,
              "#0d0887"
             ],
             [
              0.1111111111111111,
              "#46039f"
             ],
             [
              0.2222222222222222,
              "#7201a8"
             ],
             [
              0.3333333333333333,
              "#9c179e"
             ],
             [
              0.4444444444444444,
              "#bd3786"
             ],
             [
              0.5555555555555556,
              "#d8576b"
             ],
             [
              0.6666666666666666,
              "#ed7953"
             ],
             [
              0.7777777777777778,
              "#fb9f3a"
             ],
             [
              0.8888888888888888,
              "#fdca26"
             ],
             [
              1,
              "#f0f921"
             ]
            ],
            "type": "heatmapgl"
           }
          ],
          "histogram": [
           {
            "marker": {
             "pattern": {
              "fillmode": "overlay",
              "size": 10,
              "solidity": 0.2
             }
            },
            "type": "histogram"
           }
          ],
          "histogram2d": [
           {
            "colorbar": {
             "outlinewidth": 0,
             "ticks": ""
            },
            "colorscale": [
             [
              0,
              "#0d0887"
             ],
             [
              0.1111111111111111,
              "#46039f"
             ],
             [
              0.2222222222222222,
              "#7201a8"
             ],
             [
              0.3333333333333333,
              "#9c179e"
             ],
             [
              0.4444444444444444,
              "#bd3786"
             ],
             [
              0.5555555555555556,
              "#d8576b"
             ],
             [
              0.6666666666666666,
              "#ed7953"
             ],
             [
              0.7777777777777778,
              "#fb9f3a"
             ],
             [
              0.8888888888888888,
              "#fdca26"
             ],
             [
              1,
              "#f0f921"
             ]
            ],
            "type": "histogram2d"
           }
          ],
          "histogram2dcontour": [
           {
            "colorbar": {
             "outlinewidth": 0,
             "ticks": ""
            },
            "colorscale": [
             [
              0,
              "#0d0887"
             ],
             [
              0.1111111111111111,
              "#46039f"
             ],
             [
              0.2222222222222222,
              "#7201a8"
             ],
             [
              0.3333333333333333,
              "#9c179e"
             ],
             [
              0.4444444444444444,
              "#bd3786"
             ],
             [
              0.5555555555555556,
              "#d8576b"
             ],
             [
              0.6666666666666666,
              "#ed7953"
             ],
             [
              0.7777777777777778,
              "#fb9f3a"
             ],
             [
              0.8888888888888888,
              "#fdca26"
             ],
             [
              1,
              "#f0f921"
             ]
            ],
            "type": "histogram2dcontour"
           }
          ],
          "mesh3d": [
           {
            "colorbar": {
             "outlinewidth": 0,
             "ticks": ""
            },
            "type": "mesh3d"
           }
          ],
          "parcoords": [
           {
            "line": {
             "colorbar": {
              "outlinewidth": 0,
              "ticks": ""
             }
            },
            "type": "parcoords"
           }
          ],
          "pie": [
           {
            "automargin": true,
            "type": "pie"
           }
          ],
          "scatter": [
           {
            "fillpattern": {
             "fillmode": "overlay",
             "size": 10,
             "solidity": 0.2
            },
            "type": "scatter"
           }
          ],
          "scatter3d": [
           {
            "line": {
             "colorbar": {
              "outlinewidth": 0,
              "ticks": ""
             }
            },
            "marker": {
             "colorbar": {
              "outlinewidth": 0,
              "ticks": ""
             }
            },
            "type": "scatter3d"
           }
          ],
          "scattercarpet": [
           {
            "marker": {
             "colorbar": {
              "outlinewidth": 0,
              "ticks": ""
             }
            },
            "type": "scattercarpet"
           }
          ],
          "scattergeo": [
           {
            "marker": {
             "colorbar": {
              "outlinewidth": 0,
              "ticks": ""
             }
            },
            "type": "scattergeo"
           }
          ],
          "scattergl": [
           {
            "marker": {
             "colorbar": {
              "outlinewidth": 0,
              "ticks": ""
             }
            },
            "type": "scattergl"
           }
          ],
          "scattermapbox": [
           {
            "marker": {
             "colorbar": {
              "outlinewidth": 0,
              "ticks": ""
             }
            },
            "type": "scattermapbox"
           }
          ],
          "scatterpolar": [
           {
            "marker": {
             "colorbar": {
              "outlinewidth": 0,
              "ticks": ""
             }
            },
            "type": "scatterpolar"
           }
          ],
          "scatterpolargl": [
           {
            "marker": {
             "colorbar": {
              "outlinewidth": 0,
              "ticks": ""
             }
            },
            "type": "scatterpolargl"
           }
          ],
          "scatterternary": [
           {
            "marker": {
             "colorbar": {
              "outlinewidth": 0,
              "ticks": ""
             }
            },
            "type": "scatterternary"
           }
          ],
          "surface": [
           {
            "colorbar": {
             "outlinewidth": 0,
             "ticks": ""
            },
            "colorscale": [
             [
              0,
              "#0d0887"
             ],
             [
              0.1111111111111111,
              "#46039f"
             ],
             [
              0.2222222222222222,
              "#7201a8"
             ],
             [
              0.3333333333333333,
              "#9c179e"
             ],
             [
              0.4444444444444444,
              "#bd3786"
             ],
             [
              0.5555555555555556,
              "#d8576b"
             ],
             [
              0.6666666666666666,
              "#ed7953"
             ],
             [
              0.7777777777777778,
              "#fb9f3a"
             ],
             [
              0.8888888888888888,
              "#fdca26"
             ],
             [
              1,
              "#f0f921"
             ]
            ],
            "type": "surface"
           }
          ],
          "table": [
           {
            "cells": {
             "fill": {
              "color": "#EBF0F8"
             },
             "line": {
              "color": "white"
             }
            },
            "header": {
             "fill": {
              "color": "#C8D4E3"
             },
             "line": {
              "color": "white"
             }
            },
            "type": "table"
           }
          ]
         },
         "layout": {
          "annotationdefaults": {
           "arrowcolor": "#2a3f5f",
           "arrowhead": 0,
           "arrowwidth": 1
          },
          "autotypenumbers": "strict",
          "coloraxis": {
           "colorbar": {
            "outlinewidth": 0,
            "ticks": ""
           }
          },
          "colorscale": {
           "diverging": [
            [
             0,
             "#8e0152"
            ],
            [
             0.1,
             "#c51b7d"
            ],
            [
             0.2,
             "#de77ae"
            ],
            [
             0.3,
             "#f1b6da"
            ],
            [
             0.4,
             "#fde0ef"
            ],
            [
             0.5,
             "#f7f7f7"
            ],
            [
             0.6,
             "#e6f5d0"
            ],
            [
             0.7,
             "#b8e186"
            ],
            [
             0.8,
             "#7fbc41"
            ],
            [
             0.9,
             "#4d9221"
            ],
            [
             1,
             "#276419"
            ]
           ],
           "sequential": [
            [
             0,
             "#0d0887"
            ],
            [
             0.1111111111111111,
             "#46039f"
            ],
            [
             0.2222222222222222,
             "#7201a8"
            ],
            [
             0.3333333333333333,
             "#9c179e"
            ],
            [
             0.4444444444444444,
             "#bd3786"
            ],
            [
             0.5555555555555556,
             "#d8576b"
            ],
            [
             0.6666666666666666,
             "#ed7953"
            ],
            [
             0.7777777777777778,
             "#fb9f3a"
            ],
            [
             0.8888888888888888,
             "#fdca26"
            ],
            [
             1,
             "#f0f921"
            ]
           ],
           "sequentialminus": [
            [
             0,
             "#0d0887"
            ],
            [
             0.1111111111111111,
             "#46039f"
            ],
            [
             0.2222222222222222,
             "#7201a8"
            ],
            [
             0.3333333333333333,
             "#9c179e"
            ],
            [
             0.4444444444444444,
             "#bd3786"
            ],
            [
             0.5555555555555556,
             "#d8576b"
            ],
            [
             0.6666666666666666,
             "#ed7953"
            ],
            [
             0.7777777777777778,
             "#fb9f3a"
            ],
            [
             0.8888888888888888,
             "#fdca26"
            ],
            [
             1,
             "#f0f921"
            ]
           ]
          },
          "colorway": [
           "#636efa",
           "#EF553B",
           "#00cc96",
           "#ab63fa",
           "#FFA15A",
           "#19d3f3",
           "#FF6692",
           "#B6E880",
           "#FF97FF",
           "#FECB52"
          ],
          "font": {
           "color": "#2a3f5f"
          },
          "geo": {
           "bgcolor": "white",
           "lakecolor": "white",
           "landcolor": "#E5ECF6",
           "showlakes": true,
           "showland": true,
           "subunitcolor": "white"
          },
          "hoverlabel": {
           "align": "left"
          },
          "hovermode": "closest",
          "mapbox": {
           "style": "light"
          },
          "paper_bgcolor": "white",
          "plot_bgcolor": "#E5ECF6",
          "polar": {
           "angularaxis": {
            "gridcolor": "white",
            "linecolor": "white",
            "ticks": ""
           },
           "bgcolor": "#E5ECF6",
           "radialaxis": {
            "gridcolor": "white",
            "linecolor": "white",
            "ticks": ""
           }
          },
          "scene": {
           "xaxis": {
            "backgroundcolor": "#E5ECF6",
            "gridcolor": "white",
            "gridwidth": 2,
            "linecolor": "white",
            "showbackground": true,
            "ticks": "",
            "zerolinecolor": "white"
           },
           "yaxis": {
            "backgroundcolor": "#E5ECF6",
            "gridcolor": "white",
            "gridwidth": 2,
            "linecolor": "white",
            "showbackground": true,
            "ticks": "",
            "zerolinecolor": "white"
           },
           "zaxis": {
            "backgroundcolor": "#E5ECF6",
            "gridcolor": "white",
            "gridwidth": 2,
            "linecolor": "white",
            "showbackground": true,
            "ticks": "",
            "zerolinecolor": "white"
           }
          },
          "shapedefaults": {
           "line": {
            "color": "#2a3f5f"
           }
          },
          "ternary": {
           "aaxis": {
            "gridcolor": "white",
            "linecolor": "white",
            "ticks": ""
           },
           "baxis": {
            "gridcolor": "white",
            "linecolor": "white",
            "ticks": ""
           },
           "bgcolor": "#E5ECF6",
           "caxis": {
            "gridcolor": "white",
            "linecolor": "white",
            "ticks": ""
           }
          },
          "title": {
           "x": 0.05
          },
          "xaxis": {
           "automargin": true,
           "gridcolor": "white",
           "linecolor": "white",
           "ticks": "",
           "title": {
            "standoff": 15
           },
           "zerolinecolor": "white",
           "zerolinewidth": 2
          },
          "yaxis": {
           "automargin": true,
           "gridcolor": "white",
           "linecolor": "white",
           "ticks": "",
           "title": {
            "standoff": 15
           },
           "zerolinecolor": "white",
           "zerolinewidth": 2
          }
         }
        },
        "title": {
         "text": "Multilayer Perceptron - Second Data Format: Metrics"
        },
        "xaxis": {
         "title": {
          "text": "Epochs"
         }
        },
        "yaxis": {
         "title": {
          "text": "Metrics"
         }
        }
       }
      },
      "text/html": [
       "<div>                            <div id=\"ffa02db2-32cf-47ce-b4b7-c635bb57426b\" class=\"plotly-graph-div\" style=\"height:525px; width:100%;\"></div>            <script type=\"text/javascript\">                require([\"plotly\"], function(Plotly) {                    window.PLOTLYENV=window.PLOTLYENV || {};                                    if (document.getElementById(\"ffa02db2-32cf-47ce-b4b7-c635bb57426b\")) {                    Plotly.newPlot(                        \"ffa02db2-32cf-47ce-b4b7-c635bb57426b\",                        [{\"mode\":\"lines+markers\",\"name\":\"Loss\",\"x\":[1,2,3,4,5,6,7],\"y\":[0.6613447666168213,0.4945385456085205,0.3415064215660095,0.2283647060394287,0.16321159899234772,0.13061659038066864,0.10482236742973328],\"type\":\"scatter\"},{\"mode\":\"lines+markers\",\"name\":\"Val Loss\",\"x\":[1,2,3,4,5,6,7],\"y\":[0.5633659362792969,0.4519742429256439,0.38619208335876465,0.40094414353370667,0.44620785117149353,0.46739664673805237,0.5140789151191711],\"type\":\"scatter\"},{\"mode\":\"lines+markers\",\"name\":\"Accuracy\",\"x\":[1,2,3,4,5,6,7],\"y\":[0.8478791117668152,0.8763746619224548,0.9149466156959534,0.9471260905265808,0.9635949730873108,0.9726962447166443,0.9776802659034729],\"type\":\"scatter\"},{\"mode\":\"lines+markers\",\"name\":\"Val Accuracy\",\"x\":[1,2,3,4,5,6,7],\"y\":[0.8644140958786011,0.8763266205787659,0.9157461524009705,0.9170457124710083,0.9036170840263367,0.908165454864502,0.904483437538147],\"type\":\"scatter\"},{\"mode\":\"lines+markers\",\"name\":\"Precision\",\"x\":[1,2,3,4,5,6,7],\"y\":[0.7992485165596008,0.827995240688324,0.9116220474243164,0.9417989253997803,0.9572834968566895,0.9669367074966431,0.9721993803977966],\"type\":\"scatter\"},{\"mode\":\"lines+markers\",\"name\":\"Val Precision\",\"x\":[1,2,3,4,5,6,7],\"y\":[0.7966212034225464,0.8292517066001892,0.8938356041908264,0.8937329649925232,0.8705962300300598,0.867986798286438,0.8621371984481812],\"type\":\"scatter\"},{\"mode\":\"lines+markers\",\"name\":\"Recall\",\"x\":[1,2,3,4,5,6,7],\"y\":[0.7259873151779175,0.7940841913223267,0.8248009085655212,0.896798312664032,0.9323906898498535,0.9505932331085205,0.9605070948600769],\"type\":\"scatter\"},{\"mode\":\"lines+markers\",\"name\":\"Val Recall\",\"x\":[1,2,3,4,5,6,7],\"y\":[0.7966212034225464,0.7920727729797363,0.847953200340271,0.852501630783081,0.8349577784538269,0.8544509410858154,0.8492527604103088],\"type\":\"scatter\"},{\"mode\":\"lines+markers\",\"name\":\"Auc\",\"x\":[1,2,3,4,5,6,7],\"y\":[0.8777435421943665,0.9385861754417419,0.9703775644302368,0.9874104857444763,0.9934706687927246,0.9956306219100952,0.9972623586654663],\"type\":\"scatter\"},{\"mode\":\"lines+markers\",\"name\":\"Val Auc\",\"x\":[1,2,3,4,5,6,7],\"y\":[0.9220083951950073,0.9451093673706055,0.9584090113639832,0.9553959965705872,0.9456978440284729,0.9455511569976807,0.9399946928024292],\"type\":\"scatter\"}],                        {\"showlegend\":true,\"title\":{\"text\":\"Multilayer Perceptron - Second Data Format: Metrics\"},\"xaxis\":{\"title\":{\"text\":\"Epochs\"}},\"yaxis\":{\"title\":{\"text\":\"Metrics\"}},\"template\":{\"data\":{\"histogram2dcontour\":[{\"type\":\"histogram2dcontour\",\"colorbar\":{\"outlinewidth\":0,\"ticks\":\"\"},\"colorscale\":[[0.0,\"#0d0887\"],[0.1111111111111111,\"#46039f\"],[0.2222222222222222,\"#7201a8\"],[0.3333333333333333,\"#9c179e\"],[0.4444444444444444,\"#bd3786\"],[0.5555555555555556,\"#d8576b\"],[0.6666666666666666,\"#ed7953\"],[0.7777777777777778,\"#fb9f3a\"],[0.8888888888888888,\"#fdca26\"],[1.0,\"#f0f921\"]]}],\"choropleth\":[{\"type\":\"choropleth\",\"colorbar\":{\"outlinewidth\":0,\"ticks\":\"\"}}],\"histogram2d\":[{\"type\":\"histogram2d\",\"colorbar\":{\"outlinewidth\":0,\"ticks\":\"\"},\"colorscale\":[[0.0,\"#0d0887\"],[0.1111111111111111,\"#46039f\"],[0.2222222222222222,\"#7201a8\"],[0.3333333333333333,\"#9c179e\"],[0.4444444444444444,\"#bd3786\"],[0.5555555555555556,\"#d8576b\"],[0.6666666666666666,\"#ed7953\"],[0.7777777777777778,\"#fb9f3a\"],[0.8888888888888888,\"#fdca26\"],[1.0,\"#f0f921\"]]}],\"heatmap\":[{\"type\":\"heatmap\",\"colorbar\":{\"outlinewidth\":0,\"ticks\":\"\"},\"colorscale\":[[0.0,\"#0d0887\"],[0.1111111111111111,\"#46039f\"],[0.2222222222222222,\"#7201a8\"],[0.3333333333333333,\"#9c179e\"],[0.4444444444444444,\"#bd3786\"],[0.5555555555555556,\"#d8576b\"],[0.6666666666666666,\"#ed7953\"],[0.7777777777777778,\"#fb9f3a\"],[0.8888888888888888,\"#fdca26\"],[1.0,\"#f0f921\"]]}],\"heatmapgl\":[{\"type\":\"heatmapgl\",\"colorbar\":{\"outlinewidth\":0,\"ticks\":\"\"},\"colorscale\":[[0.0,\"#0d0887\"],[0.1111111111111111,\"#46039f\"],[0.2222222222222222,\"#7201a8\"],[0.3333333333333333,\"#9c179e\"],[0.4444444444444444,\"#bd3786\"],[0.5555555555555556,\"#d8576b\"],[0.6666666666666666,\"#ed7953\"],[0.7777777777777778,\"#fb9f3a\"],[0.8888888888888888,\"#fdca26\"],[1.0,\"#f0f921\"]]}],\"contourcarpet\":[{\"type\":\"contourcarpet\",\"colorbar\":{\"outlinewidth\":0,\"ticks\":\"\"}}],\"contour\":[{\"type\":\"contour\",\"colorbar\":{\"outlinewidth\":0,\"ticks\":\"\"},\"colorscale\":[[0.0,\"#0d0887\"],[0.1111111111111111,\"#46039f\"],[0.2222222222222222,\"#7201a8\"],[0.3333333333333333,\"#9c179e\"],[0.4444444444444444,\"#bd3786\"],[0.5555555555555556,\"#d8576b\"],[0.6666666666666666,\"#ed7953\"],[0.7777777777777778,\"#fb9f3a\"],[0.8888888888888888,\"#fdca26\"],[1.0,\"#f0f921\"]]}],\"surface\":[{\"type\":\"surface\",\"colorbar\":{\"outlinewidth\":0,\"ticks\":\"\"},\"colorscale\":[[0.0,\"#0d0887\"],[0.1111111111111111,\"#46039f\"],[0.2222222222222222,\"#7201a8\"],[0.3333333333333333,\"#9c179e\"],[0.4444444444444444,\"#bd3786\"],[0.5555555555555556,\"#d8576b\"],[0.6666666666666666,\"#ed7953\"],[0.7777777777777778,\"#fb9f3a\"],[0.8888888888888888,\"#fdca26\"],[1.0,\"#f0f921\"]]}],\"mesh3d\":[{\"type\":\"mesh3d\",\"colorbar\":{\"outlinewidth\":0,\"ticks\":\"\"}}],\"scatter\":[{\"fillpattern\":{\"fillmode\":\"overlay\",\"size\":10,\"solidity\":0.2},\"type\":\"scatter\"}],\"parcoords\":[{\"type\":\"parcoords\",\"line\":{\"colorbar\":{\"outlinewidth\":0,\"ticks\":\"\"}}}],\"scatterpolargl\":[{\"type\":\"scatterpolargl\",\"marker\":{\"colorbar\":{\"outlinewidth\":0,\"ticks\":\"\"}}}],\"bar\":[{\"error_x\":{\"color\":\"#2a3f5f\"},\"error_y\":{\"color\":\"#2a3f5f\"},\"marker\":{\"line\":{\"color\":\"#E5ECF6\",\"width\":0.5},\"pattern\":{\"fillmode\":\"overlay\",\"size\":10,\"solidity\":0.2}},\"type\":\"bar\"}],\"scattergeo\":[{\"type\":\"scattergeo\",\"marker\":{\"colorbar\":{\"outlinewidth\":0,\"ticks\":\"\"}}}],\"scatterpolar\":[{\"type\":\"scatterpolar\",\"marker\":{\"colorbar\":{\"outlinewidth\":0,\"ticks\":\"\"}}}],\"histogram\":[{\"marker\":{\"pattern\":{\"fillmode\":\"overlay\",\"size\":10,\"solidity\":0.2}},\"type\":\"histogram\"}],\"scattergl\":[{\"type\":\"scattergl\",\"marker\":{\"colorbar\":{\"outlinewidth\":0,\"ticks\":\"\"}}}],\"scatter3d\":[{\"type\":\"scatter3d\",\"line\":{\"colorbar\":{\"outlinewidth\":0,\"ticks\":\"\"}},\"marker\":{\"colorbar\":{\"outlinewidth\":0,\"ticks\":\"\"}}}],\"scattermapbox\":[{\"type\":\"scattermapbox\",\"marker\":{\"colorbar\":{\"outlinewidth\":0,\"ticks\":\"\"}}}],\"scatterternary\":[{\"type\":\"scatterternary\",\"marker\":{\"colorbar\":{\"outlinewidth\":0,\"ticks\":\"\"}}}],\"scattercarpet\":[{\"type\":\"scattercarpet\",\"marker\":{\"colorbar\":{\"outlinewidth\":0,\"ticks\":\"\"}}}],\"carpet\":[{\"aaxis\":{\"endlinecolor\":\"#2a3f5f\",\"gridcolor\":\"white\",\"linecolor\":\"white\",\"minorgridcolor\":\"white\",\"startlinecolor\":\"#2a3f5f\"},\"baxis\":{\"endlinecolor\":\"#2a3f5f\",\"gridcolor\":\"white\",\"linecolor\":\"white\",\"minorgridcolor\":\"white\",\"startlinecolor\":\"#2a3f5f\"},\"type\":\"carpet\"}],\"table\":[{\"cells\":{\"fill\":{\"color\":\"#EBF0F8\"},\"line\":{\"color\":\"white\"}},\"header\":{\"fill\":{\"color\":\"#C8D4E3\"},\"line\":{\"color\":\"white\"}},\"type\":\"table\"}],\"barpolar\":[{\"marker\":{\"line\":{\"color\":\"#E5ECF6\",\"width\":0.5},\"pattern\":{\"fillmode\":\"overlay\",\"size\":10,\"solidity\":0.2}},\"type\":\"barpolar\"}],\"pie\":[{\"automargin\":true,\"type\":\"pie\"}]},\"layout\":{\"autotypenumbers\":\"strict\",\"colorway\":[\"#636efa\",\"#EF553B\",\"#00cc96\",\"#ab63fa\",\"#FFA15A\",\"#19d3f3\",\"#FF6692\",\"#B6E880\",\"#FF97FF\",\"#FECB52\"],\"font\":{\"color\":\"#2a3f5f\"},\"hovermode\":\"closest\",\"hoverlabel\":{\"align\":\"left\"},\"paper_bgcolor\":\"white\",\"plot_bgcolor\":\"#E5ECF6\",\"polar\":{\"bgcolor\":\"#E5ECF6\",\"angularaxis\":{\"gridcolor\":\"white\",\"linecolor\":\"white\",\"ticks\":\"\"},\"radialaxis\":{\"gridcolor\":\"white\",\"linecolor\":\"white\",\"ticks\":\"\"}},\"ternary\":{\"bgcolor\":\"#E5ECF6\",\"aaxis\":{\"gridcolor\":\"white\",\"linecolor\":\"white\",\"ticks\":\"\"},\"baxis\":{\"gridcolor\":\"white\",\"linecolor\":\"white\",\"ticks\":\"\"},\"caxis\":{\"gridcolor\":\"white\",\"linecolor\":\"white\",\"ticks\":\"\"}},\"coloraxis\":{\"colorbar\":{\"outlinewidth\":0,\"ticks\":\"\"}},\"colorscale\":{\"sequential\":[[0.0,\"#0d0887\"],[0.1111111111111111,\"#46039f\"],[0.2222222222222222,\"#7201a8\"],[0.3333333333333333,\"#9c179e\"],[0.4444444444444444,\"#bd3786\"],[0.5555555555555556,\"#d8576b\"],[0.6666666666666666,\"#ed7953\"],[0.7777777777777778,\"#fb9f3a\"],[0.8888888888888888,\"#fdca26\"],[1.0,\"#f0f921\"]],\"sequentialminus\":[[0.0,\"#0d0887\"],[0.1111111111111111,\"#46039f\"],[0.2222222222222222,\"#7201a8\"],[0.3333333333333333,\"#9c179e\"],[0.4444444444444444,\"#bd3786\"],[0.5555555555555556,\"#d8576b\"],[0.6666666666666666,\"#ed7953\"],[0.7777777777777778,\"#fb9f3a\"],[0.8888888888888888,\"#fdca26\"],[1.0,\"#f0f921\"]],\"diverging\":[[0,\"#8e0152\"],[0.1,\"#c51b7d\"],[0.2,\"#de77ae\"],[0.3,\"#f1b6da\"],[0.4,\"#fde0ef\"],[0.5,\"#f7f7f7\"],[0.6,\"#e6f5d0\"],[0.7,\"#b8e186\"],[0.8,\"#7fbc41\"],[0.9,\"#4d9221\"],[1,\"#276419\"]]},\"xaxis\":{\"gridcolor\":\"white\",\"linecolor\":\"white\",\"ticks\":\"\",\"title\":{\"standoff\":15},\"zerolinecolor\":\"white\",\"automargin\":true,\"zerolinewidth\":2},\"yaxis\":{\"gridcolor\":\"white\",\"linecolor\":\"white\",\"ticks\":\"\",\"title\":{\"standoff\":15},\"zerolinecolor\":\"white\",\"automargin\":true,\"zerolinewidth\":2},\"scene\":{\"xaxis\":{\"backgroundcolor\":\"#E5ECF6\",\"gridcolor\":\"white\",\"linecolor\":\"white\",\"showbackground\":true,\"ticks\":\"\",\"zerolinecolor\":\"white\",\"gridwidth\":2},\"yaxis\":{\"backgroundcolor\":\"#E5ECF6\",\"gridcolor\":\"white\",\"linecolor\":\"white\",\"showbackground\":true,\"ticks\":\"\",\"zerolinecolor\":\"white\",\"gridwidth\":2},\"zaxis\":{\"backgroundcolor\":\"#E5ECF6\",\"gridcolor\":\"white\",\"linecolor\":\"white\",\"showbackground\":true,\"ticks\":\"\",\"zerolinecolor\":\"white\",\"gridwidth\":2}},\"shapedefaults\":{\"line\":{\"color\":\"#2a3f5f\"}},\"annotationdefaults\":{\"arrowcolor\":\"#2a3f5f\",\"arrowhead\":0,\"arrowwidth\":1},\"geo\":{\"bgcolor\":\"white\",\"landcolor\":\"#E5ECF6\",\"subunitcolor\":\"white\",\"showland\":true,\"showlakes\":true,\"lakecolor\":\"white\"},\"title\":{\"x\":0.05},\"mapbox\":{\"style\":\"light\"}}}},                        {\"responsive\": true}                    ).then(function(){\n",
       "                            \n",
       "var gd = document.getElementById('ffa02db2-32cf-47ce-b4b7-c635bb57426b');\n",
       "var x = new MutationObserver(function (mutations, observer) {{\n",
       "        var display = window.getComputedStyle(gd).display;\n",
       "        if (!display || display === 'none') {{\n",
       "            console.log([gd, 'removed!']);\n",
       "            Plotly.purge(gd);\n",
       "            observer.disconnect();\n",
       "        }}\n",
       "}});\n",
       "\n",
       "// Listen for the removal of the full notebook cells\n",
       "var notebookContainer = gd.closest('#notebook-container');\n",
       "if (notebookContainer) {{\n",
       "    x.observe(notebookContainer, {childList: true});\n",
       "}}\n",
       "\n",
       "// Listen for the clearing of the current output cell\n",
       "var outputEl = gd.closest('.output');\n",
       "if (outputEl) {{\n",
       "    x.observe(outputEl, {childList: true});\n",
       "}}\n",
       "\n",
       "                        })                };                });            </script>        </div>"
      ]
     },
     "metadata": {},
     "output_type": "display_data"
    }
   ],
   "source": [
    "epochs_1 = list(range(1, len(metrics_) + 1)) \n",
    "\n",
    "\n",
    "metrics_1 = ['loss', 'val_loss', 'accuracy', \n",
    "           'val_accuracy', 'precision', 'val_precision', \n",
    "           'recall', 'val_recall', 'auc', 'val_auc']\n",
    "\n",
    "\n",
    "results_1 = []\n",
    "\n",
    "\n",
    "for metric in metrics_1:\n",
    "    lines = go.Scatter(x=epochs_1, y=sequential_fit_1.history[metric], mode='lines+markers', name=metric.replace('_', ' ').title())\n",
    "    results_1.append(lines)\n",
    "\n",
    "\n",
    "layout = go.Layout(\n",
    "    title='Multilayer Perceptron - Second Data Format: Metrics',\n",
    "    xaxis=dict(title='Epochs'),\n",
    "    yaxis=dict(title='Metrics'),\n",
    "    showlegend=True\n",
    ")\n",
    "\n",
    "fig = go.Figure(data=results_1, layout=layout)\n",
    "\n",
    "fig.show()"
   ]
  },
  {
   "cell_type": "code",
   "execution_count": 29,
   "id": "c6f267cb",
   "metadata": {},
   "outputs": [
    {
     "name": "stdout",
     "output_type": "stream",
     "text": [
      "61/61 [==============================] - 1s 15ms/step\n"
     ]
    }
   ],
   "source": [
    "y_pred = np.argmax(sequential_model_1.predict(X_test_2), axis=1)"
   ]
  },
  {
   "cell_type": "code",
   "execution_count": 30,
   "id": "c71a40d0",
   "metadata": {},
   "outputs": [
    {
     "data": {
      "text/plain": [
       "array([[ 131,    1,   86],\n",
       "       [   6,   12,  105],\n",
       "       [  16,   16, 1550]], dtype=int64)"
      ]
     },
     "execution_count": 30,
     "metadata": {},
     "output_type": "execute_result"
    }
   ],
   "source": [
    "conf_matrx = confusion_matrix(y_test_2, y_pred)\n",
    "conf_matrx"
   ]
  },
  {
   "cell_type": "code",
   "execution_count": 31,
   "id": "6e36cd74",
   "metadata": {},
   "outputs": [
    {
     "name": "stdout",
     "output_type": "stream",
     "text": [
      "              precision    recall  f1-score   support\n",
      "\n",
      "         ALL       0.86      0.60      0.71       218\n",
      "     AML_MDS       0.41      0.10      0.16       123\n",
      "        LAML       0.89      0.98      0.93      1582\n",
      "\n",
      "    accuracy                           0.88      1923\n",
      "   macro avg       0.72      0.56      0.60      1923\n",
      "weighted avg       0.86      0.88      0.86      1923\n",
      "\n"
     ]
    }
   ],
   "source": [
    "print(classification_report(y_test_2, y_pred, target_names=diseases))"
   ]
  },
  {
   "cell_type": "code",
   "execution_count": 32,
   "id": "d244d20f",
   "metadata": {},
   "outputs": [
    {
     "data": {
      "text/plain": [
       "0.5594169489172826"
      ]
     },
     "execution_count": 32,
     "metadata": {},
     "output_type": "execute_result"
    }
   ],
   "source": [
    "b_accuracy = balanced_accuracy_score(y_test_2, y_pred)\n",
    "b_accuracy"
   ]
  },
  {
   "cell_type": "code",
   "execution_count": 71,
   "id": "7125891e",
   "metadata": {},
   "outputs": [
    {
     "data": {
      "image/png": "[encoded data removed]",
      "text/plain": [
       "<Figure size 1000x600 with 2 Axes>"
      ]
     },
     "metadata": {},
     "output_type": "display_data"
    }
   ],
   "source": [
    "diseases_confu_matrx_1 = confusion_matrix(y_test_2,y_pred)\n",
    "diseases_confu_matrx_dataframe = pd.DataFrame(diseases_confu_matrx_1,\n",
    "                                                   index=diseases,\n",
    "                                                   columns=diseases)\n",
    "\n",
    "\n",
    "plt.figure(figsize=(10, 6)) \n",
    "sns.heatmap(diseases_confu_matrx_dataframe, annot=True, cmap='YlGnBu', fmt='d') \n",
    "\n",
    "plt.xlabel('Predicted Labels')\n",
    "plt.ylabel('True Labels')\n",
    "plt.title('Multilayer Perceptron - Second Data Format')\n",
    "\n",
    "\n",
    "plt.savefig('heatmap_seaborn.png')\n",
    "\n",
    "plt.show()\n"
   ]
  },
  {
   "cell_type": "code",
   "execution_count": null,
   "id": "a850f371",
   "metadata": {},
   "outputs": [],
   "source": []
  }
 ],
 "metadata": {
  "kernelspec": {
   "display_name": "Python 3 (ipykernel)",
   "language": "python",
   "name": "python3"
  },
  "language_info": {
   "codemirror_mode": {
    "name": "ipython",
    "version": 3
   },
   "file_extension": ".py",
   "mimetype": "text/x-python",
   "name": "python",
   "nbconvert_exporter": "python",
   "pygments_lexer": "ipython3",
   "version": "3.11.5"
  }
 },
 "nbformat": 4,
 "nbformat_minor": 5
}
